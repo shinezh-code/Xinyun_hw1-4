{
 "cells": [
  {
   "cell_type": "markdown",
   "metadata": {},
   "source": [
    "## algorithm design and anlysis-2025 spring  homework 2\n",
    "**Deadline**：2025.5.14\n",
    "\n",
    "**name**:\n",
    "\n",
    "\n",
    "note：\n",
    "---\n",
    "1. 带有\\*的题目，申请免上课的同学，必须完成，其他同学选作；\n",
    "2. 请独立完成，如求助了他人或者大模型，请著明，并且不可省略算法分析部分；\n",
    "4. 如若作答有雷同，全部取消成绩；\n",
    "3. 需要书面作答的题目，可以通过引用图片的形式添加，但是注意上传项目时包含所引用的图片的源文件；\n",
    "4. $log_n$ 默认表示$log_2{n}$;"
   ]
  },
  {
   "cell_type": "markdown",
   "metadata": {},
   "source": [
    "## 问题 1  \n",
    "\n",
    "> 给定一个已排序的链表的头 `head` ， *删除所有重复的元素，使每个元素只出现一次* 。返回 *已排序的链表* 。链表的类如下所示：\n",
    "\n",
    "```python\n",
    "class NodeList:\n",
    "    def __init__(self, val=None, right=None):\n",
    "        self.val   = val\n",
    "        self.right = right\n",
    "```\n",
    "\n",
    "输入是一个数组，你首先需要将数组转化为链表，然后删除链表中的重复元素，再遍历链表元素，以一个数组的形式返回。请设计一个算法解决上述任务，分析算法设计思路，计算时间复杂度, 并基于python编程实现。\n",
    "\n",
    "e.g.  输入：head=[1, 1, 2, 3, 3]   输出：[1, 2, 3]\n",
    "\n",
    "![image-20240502110020439](./fig/hw2q1.png)\n",
    "\n"
   ]
  },
  {
   "cell_type": "markdown",
   "metadata": {},
   "source": [
    "idea：  \n",
    "首先需要构造链表: 先将输入数组转化为链表结构  \n",
    "其次删除重复节点: 遍历链表，比较当前节点与下一节点的值，如果相同，则跳过下一节点  \n",
    "最后将链表转换为数组：遍历去重后的链表，将值存入数组并返回  \n",
    "时间复杂度分析：  \n",
    "链表构造：O(n)  \n",
    "去重链表：O(n)  \n",
    "转换数组：O(n)  \n",
    "总时间复杂度：O(n)  "
   ]
  },
  {
   "cell_type": "code",
   "metadata": {
    "ExecuteTime": {
     "end_time": "2025-03-14T07:29:21.670937Z",
     "start_time": "2025-03-14T07:29:21.657971Z"
    }
   },
   "source": [
    "# add your idea here\n",
    "class NodeList:\n",
    "    def __init__(self, val=None, right=None):\n",
    "        self.val = val\n",
    "        self.right = right\n",
    "\n",
    "# 数组转换为链表\n",
    "def array_to_linked_list(arr):\n",
    "    if not arr:\n",
    "        return None\n",
    "    head = NodeList(arr[0])\n",
    "    current = head\n",
    "    for val in arr[1:]:\n",
    "        current.right = NodeList(val)\n",
    "        current = current.right\n",
    "    return head\n",
    "\n",
    "# 删除链表中重复的元素\n",
    "def remove_duplicates(head):\n",
    "    if not head:\n",
    "        return None\n",
    "    current = head\n",
    "    while current and current.right:\n",
    "        if current.val == current.right.val:\n",
    "            current.right = current.right.right  # 跳过重复节点\n",
    "        else:\n",
    "            current = current.right\n",
    "    return head\n",
    "\n",
    "# 链表转换为数组\n",
    "def linked_list_to_array(head):\n",
    "    result = []\n",
    "    current = head\n",
    "    while current:\n",
    "        result.append(current.val)\n",
    "        current = current.right\n",
    "    return result\n",
    "\n",
    "# 主函数：综合调用上述三个步骤\n",
    "def process_list(arr):\n",
    "    head = array_to_linked_list(arr)\n",
    "    head = remove_duplicates(head)\n",
    "    return linked_list_to_array(head)\n",
    "\n",
    "# 示例测试\n",
    "input_list = [1, 1, 2, 3, 3]\n",
    "output_list = process_list(input_list)\n",
    "print(output_list)  # 输出：[1, 2, 3]\n",
    "# your algorithm time complexity is:O(n)"
   ],
   "outputs": [
    {
     "name": "stdout",
     "output_type": "stream",
     "text": [
      "[1, 2, 3]\n"
     ]
    }
   ],
   "execution_count": 1
  },
  {
   "metadata": {},
   "cell_type": "markdown",
   "source": [
    "## 问题 2  \n",
    "\n",
    "> 下面是一个经典的算法问题：\n",
    ">\n",
    "> - 给定包含n个整数的一个整数数组 `nums` 和一个整数目标值 `target`，请你在该数组中找出 **和为目标值** *`target`* 的那 **两个** 整数，并返回它们的**数组下标**。假设每种输入只会对应一个答案。但是，数组中同一个元素在答案里不能重复出现。你可以按任意顺序返回答案。\n",
    ">\n",
    "> 由于要多次查找数组中元素的位置，为了提高查询效率可以使用哈希表来存储数组中的数据，在哈希表中查询一个元素的复杂度为O(1)。 已知python中的字典是使用哈希表实现的，即使用`dict[key]`查询对应的value时间复杂度为O(1), python提供了查询字典是否包含某个key的功能：`key in dict`，时间复杂度也是O(1)\n",
    "\n",
    "请根据上面信息，设计一个时间复杂度为O(n) 的算法，解决上述算法问题\n",
    "\n",
    "e.g.   \n",
    "\n",
    "输入：nums=[2,7,11,15], target=9， 输出：[0，1]\n",
    "\n",
    "输入：nums=[3,2,4], target=6, 输出：[1,2]\n",
    "\n",
    "输入：nums=[3,3], target=6,  输出：[0,1]\n"
   ]
  },
  {
   "metadata": {},
   "cell_type": "markdown",
   "source": [
    "思路：题目当中给的是借助哈希表，我看到题目的时候想到的是可以用双指针 \n",
    "思路就是先给数组排序，然后设置两个指针，分别指向数组的起始位置left和末尾位置right  \n",
    "然后移动指针，检查nums[left]+nums[right]是否等于目标值：如果相等返回这两个元素的下标，如果小于目标值，则将left指针向右移动，增大总和；如果大于目标值，则将right指针向左移动，减小总和  \n",
    "停止条件L:当left指针大于或等于right指针时，停止  \n",
    "这个的时间复杂度是O(nlogn)\n",
    "下面代码是借助哈希表的"
   ]
  },
  {
   "cell_type": "code",
   "metadata": {
    "ExecuteTime": {
     "end_time": "2025-03-14T07:38:34.104006Z",
     "start_time": "2025-03-14T07:38:34.091153Z"
    }
   },
   "source": [
    "# add your idea here\n",
    "def two_sum(nums, target):\n",
    "    # 创建一个空字典，用于存储元素及其下标\n",
    "    hash_map = {}\n",
    "    \n",
    "    # 遍历数组\n",
    "    for i, num in enumerate(nums):\n",
    "        # 计算目标值与当前数的差值\n",
    "        complement = target - num\n",
    "        \n",
    "        # 如果差值在字典中，说明找到了两个数\n",
    "        if complement in hash_map:\n",
    "            return [hash_map[complement], i]\n",
    "        \n",
    "        # 否则将当前元素及其下标存入字典\n",
    "        hash_map[num] = i\n",
    "    \n",
    "    # 如果没有找到，返回空（但题目保证一定有答案）\n",
    "    return []\n",
    "\n",
    "# 示例测试\n",
    "print(two_sum([2, 7, 11, 15], 9))  # 输出：[0, 1]\n",
    "print(two_sum([3, 2, 4], 6))       # 输出：[1, 2]\n",
    "print(two_sum([3, 3], 6))          # 输出：[0, 1]\n",
    "# your algorithm time complexity is: O(n)"
   ],
   "outputs": [
    {
     "name": "stdout",
     "output_type": "stream",
     "text": [
      "[0, 1]\n",
      "[1, 2]\n",
      "[0, 1]\n"
     ]
    }
   ],
   "execution_count": 2
  },
  {
   "cell_type": "markdown",
   "metadata": {},
   "source": [
    "## 问题 3:   \n",
    "\n",
    "> 栈是一种常用的数据结构，编译器中通常使用栈来实现表达式求值。\n",
    ">\n",
    "> 以表达式 $3+5 \\times 8-6$​ 为例。编译器使用两个栈来完成运算，即一个栈保持操作数，另一个栈保存运算符。\n",
    ">\n",
    "> 1. 从左向右遍历表达式，遇到数字就压入操作数栈；\n",
    ">\n",
    "> 2. 遇到运算符，就与运算符栈的栈顶元素进行比较。如果比运算符栈顶元素的优先级高，就将当前运算符压入栈；如果比运算符栈顶元素的优先级低或者相同，从运算符栈中取栈顶运算符，从操作数栈的栈顶取 2 个操作数，然后进行计算，再把计算完的结果压入操作数栈，继续比较。\n",
    ">\n",
    "> 下图是 $3+5 \\times 8-6$  这个表达式的计算过程：\n",
    "\n",
    "![figure](./fig/hw2q3.png)\n",
    "\n",
    "根据上述原理，请设计一个算法完成表达式的运算，当输入为表达式字符串，返回对应的计算结果。分析算法设计思路，计算时间复杂度，并基于python编程实现\n",
    "\n",
    "**note：**\n",
    "\n",
    "1. 假设输入的表达式只会出现加（“+”），减 “-”， 乘“*”，除 “/” 四个运算符, 表达式中只会出现正整数\n",
    "2. python中` str.isdigit()`函数可以判断字符串str是否为数字，\n",
    "\n",
    "\n",
    "\n",
    "e.g. :\n",
    "---\n",
    "\n",
    "1. 输入：“$3+5 * 8 -6$”   输出：37\n",
    "\n",
    "2. 输入：“$34+13*9 + 44-12/3$”  输出：191"
   ]
  },
  {
   "cell_type": "markdown",
   "metadata": {},
   "source": [
    "idea：上面输入是中缀表达式，我的想法就是先将种子表达式转换成逆波兰表达式，逆波兰表达式不使用括号来指示运算的优先顺序，而是通过运算符的位置来明确计算顺序，它的主要特点就是：操作符位于操作数之后  \n",
    "借助AI知道如何将中缀表达式转换成逆波兰表达式  \n",
    "可以使用Shunting Yard算法（Dijkstra提出）\n",
    "然后运算：从左到右遍历表达式，操作数直接压入栈中，遇到运算符，从栈中弹出两个数字，进行运算，将结果再压入栈中，最后栈中唯一的元素即为最终结果  \n",
    "时间复杂度：  中缀转后缀（逆波兰）O(n)\n",
    "逆波兰求值O(n)\n",
    "总的O(n)\n"
   ]
  },
  {
   "metadata": {},
   "cell_type": "markdown",
   "source": ""
  },
  {
   "cell_type": "code",
   "metadata": {
    "ExecuteTime": {
     "end_time": "2025-03-14T08:00:38.223603Z",
     "start_time": "2025-03-14T08:00:38.213531Z"
    }
   },
   "source": [
    "# add your idea here\n",
    "def infix_to_rpn(expression):\n",
    "    # 定义运算符的优先级\n",
    "    precedence = {'+': 1, '-': 1, '*': 2, '/': 2}\n",
    "    output = []\n",
    "    operators = []\n",
    "    \n",
    "    for token in expression.split():\n",
    "        if token.isdigit():  # 如果是数字，直接加入输出队列\n",
    "            output.append(token)\n",
    "        elif token == '(':  # 如果是左括号，压入栈\n",
    "            operators.append(token)\n",
    "        elif token == ')':  # 如果是右括号，弹出直到遇到左括号\n",
    "            while operators and operators[-1] != '(':\n",
    "                output.append(operators.pop())\n",
    "            operators.pop()  # 弹出 '('\n",
    "        else:  # 如果是运算符\n",
    "            while (operators and operators[-1] != '(' and\n",
    "                   precedence[token] <= precedence[operators[-1]]):\n",
    "                output.append(operators.pop())\n",
    "            operators.append(token)\n",
    "    \n",
    "    while operators:  # 弹出剩余的运算符\n",
    "        output.append(operators.pop())\n",
    "    \n",
    "    return output\n",
    "\n",
    "def evaluate_rpn(rpn):\n",
    "    stack = []\n",
    "    for token in rpn:\n",
    "        if token.isdigit():  # 如果是数字，压入栈\n",
    "            stack.append(int(token))\n",
    "        else:  # 如果是运算符，弹出操作数并计算\n",
    "            b = stack.pop()\n",
    "            a = stack.pop()\n",
    "            if token == '+':\n",
    "                stack.append(a + b)\n",
    "            elif token == '-':\n",
    "                stack.append(a - b)\n",
    "            elif token == '*':\n",
    "                stack.append(a * b)\n",
    "            elif token == '/':\n",
    "                stack.append(int(a / b))  # 向零取整\n",
    "    return stack[0]\n",
    "\n",
    "# 示例\n",
    "expression1 = \"3 + 5 * 8 - 6\"\n",
    "expression2 = \"34 + 13 * 9 + 44 - 12 / 3\"\n",
    "rpn1 = infix_to_rpn(expression1)\n",
    "rpn2 = infix_to_rpn(expression2)\n",
    "print(\"RPN1:\", rpn1)\n",
    "result1 = evaluate_rpn(rpn1)\n",
    "print(\"Result:\", result1)\n",
    "print(\"RPN2:\", rpn2)\n",
    "result2 = evaluate_rpn(rpn2)\n",
    "print(\"Result:\", result2)\n",
    "\n",
    "# your algorithm time complexity is: O(n)"
   ],
   "outputs": [
    {
     "name": "stdout",
     "output_type": "stream",
     "text": [
      "RPN1: ['3', '5', '8', '*', '+', '6', '-']\n",
      "Result: 37\n",
      "RPN2: ['34', '13', '9', '*', '+', '44', '+', '12', '3', '/', '-']\n",
      "Result: 191\n"
     ]
    }
   ],
   "execution_count": 5
  },
  {
   "cell_type": "markdown",
   "metadata": {},
   "source": [
    "## 问题 4:  \n",
    "\n",
    "> 星球碰撞问题：现有n个星球，在同一条直线上运行，如数组A所示，元素的绝对值表示星球的质量，负数表示星球自右向左运动，正数表示星球自左向右运动，当两个星球相撞的时候，质量小的会消失，大的保持不变，**质量相同的两个星球碰撞后自右向左运动的星球消失，自左向右的星球保持不变**，假设所有星球的速度大小相同。\n",
    ">\n",
    "> $ A=[23,-8, 9, -3, -7, 9, -23, 22] $\n",
    "\n",
    "请设计一个算法模拟星球的运行情况，输出最终的星球存续情况（输出一个数组），分析算法设计思路，计算时间复杂度，并基于python编程实现。\n",
    "\n",
    "e.g.\n",
    "---\n",
    "1.  输入： A=[-3,-6,2,8, 5,-8,9,-2,1]， 输出：[-3, -6, 2, 8, 9, 1]\n",
    "\n",
    "2. 输入：A=[23,-8, 9, -3, -7, 9, -23, 22], 输出：[23, 22]\n",
    "\n"
   ]
  },
  {
   "metadata": {},
   "cell_type": "markdown",
   "source": [
    "想法就是暴力模拟，基于相邻碰撞消除的思想：  \n",
    "从左到右遍历数组  \n",
    "检查相邻的两个星球，只有一种情况会发生碰撞，那就是左正右负情况；质量小的星球消失，质量大的留下；质量相同时，向左运动的消失，向右运动的保留；  \n",
    "删除碰撞消失的星球，重新开始遍历  \n",
    "重复上述过程，直到所有星球不再发生碰撞  \n",
    "时间复杂度：$O(n^2) $  \n",
    "但是我认为这个算法不太好，因为它会产生大量的无效的碰撞，导致时间复杂度很高  \n",
    "询问AI是否有更简单的算法，chat给了一个时间复杂度为O(n)的算法，借助了栈的思想，但是在生成代码的过程中，chat给出的代码出现了小错误，当判断质量相同星球运动的时时候，它保留的是向左运动的星球，以下是栈思路的详细步骤：  \n",
    "使用栈存储星球：我们遍历数组 A，依次处理每一个星球。当遇到一个新的星球时：\n",
    "如果它是从左向右运动（即正数），直接将其推入栈中。\n",
    "如果它是从右向左运动（即负数），则需要与栈顶的星球进行碰撞判断。\n",
    "碰撞判断：  \n",
    "当栈顶是一个从左向右运动的星球时（即栈顶是正数），碰撞会发生。我们比较这两个星球的质量：\n",
    "如果质量小的星球消失，则继续检查下一个星球与栈顶星球的碰撞。\n",
    "如果质量大的星球消失，则不需要再碰撞，继续将当前星球推入栈中。\n",
    "如果质量相同，则栈顶星球保留，当前星球继续向右运动。\n",
    "处理完所有星球后，栈中的元素就是最终存活的星球。\n",
    "时间复杂度分析：\n",
    "每个星球最多进入栈一次，也最多被移除一次，因此时间复杂度是 O(n)，其中 n 是星球的数量。"
   ]
  },
  {
   "metadata": {
    "ExecuteTime": {
     "end_time": "2025-03-23T14:36:42.414845Z",
     "start_time": "2025-03-23T14:36:42.403875Z"
    }
   },
   "cell_type": "code",
   "source": [
    "# 以下是基于栈的实现：\n",
    "def simulate_planet_collision(A):\n",
    "    stack = []\n",
    "    \n",
    "    for planet in A:\n",
    "        # 如果当前星球是从左向右运动的星球\n",
    "        if planet > 0:\n",
    "            stack.append(planet)\n",
    "        else:\n",
    "            # 如果是从右向左运动的星球\n",
    "            while stack and stack[-1] > 0:  # 有可能会碰撞\n",
    "                if stack[-1] > abs(planet):  # 栈顶的星球质量更大，当前星球消失\n",
    "                    break\n",
    "                elif stack[-1] < abs(planet):  # 栈顶星球消失\n",
    "                    stack.pop()\n",
    "                else:  # 相同质量，栈顶的星球保留\n",
    "                    break\n",
    "            else:\n",
    "                stack.append(planet)  # 没有发生碰撞，当前星球存活\n",
    "        \n",
    "    return stack\n",
    "\n",
    "# 示例输入输出\n",
    "A1 = [-3, -6, 2, 8, 5, -8, 9, -2, 1]\n",
    "A2 = [23, -8, 9, -3, -7, 9, -23, 22]\n",
    "print(simulate_planet_collision(A1))  # 输出：[-3, -6, 2, 8, 9, 1]\n",
    "print(simulate_planet_collision(A2))  # 输出：[23, 22]"
   ],
   "outputs": [
    {
     "name": "stdout",
     "output_type": "stream",
     "text": [
      "[-3, -6, 2, 8, 9, 1]\n",
      "[23, 22]\n"
     ]
    }
   ],
   "execution_count": 17
  },
  {
   "cell_type": "markdown",
   "metadata": {},
   "source": [
    "## 问题 5 \n",
    "\n",
    "> 给定一个无序数组nums=[9,-3,-10,0,9,7,33]，请建立一个二叉搜索树存储数组中的所有元素，之后删除二叉树中的元素“0”，再使用中序遍历输出二叉搜索树中的所有元素。\n",
    "\n",
    "使用python编程完成上述任务，并计算时间复杂度\n"
   ]
  },
  {
   "metadata": {},
   "cell_type": "markdown",
   "source": [
    "思路：  \n",
    "首先需要构建二叉搜索树BST，BST的性质是左子树的节点值都小于根节点，右子树的节点值都大于根节点。依次插入数组中的元素，构建BST。  \n",
    "接着删除指定元素0：  \n",
    "分三种情况：  \n",
    "第一种就是目标节点无叶子节点，直接删除；  \n",
    "第二种就是目标节点只有一个叶子节点，用其子节点代替自身；  \n",
    "第三种就是目标节点有两个叶子节点，找到右子树的最小节点（后继节点），用其代替目标节点，然后删除后继节点。  \n",
    "最后中序遍历BST，输出所有元素。  \n",
    "时间复杂度：  \n",
    "最优情况（平衡BST）：插入O（nlogn)，删除O（logn），遍历O（n）,最终O（nlogn）  \n",
    "最坏情况（退化成链表）：插入$O(n^2)$,删除O(n),遍历O(n),最终$O(n^2)$  \n",
    " "
   ]
  },
  {
   "cell_type": "code",
   "metadata": {
    "ExecuteTime": {
     "end_time": "2025-03-24T03:11:32.209384Z",
     "start_time": "2025-03-24T03:11:32.163907Z"
    }
   },
   "source": [
    "# add your idea here\n",
    "class TreeNode:\n",
    "    \"\"\"定义二叉搜索树的节点\"\"\"\n",
    "    def __init__(self, val=0):\n",
    "        self.val = val\n",
    "        self.left = None\n",
    "        self.right = None\n",
    "\n",
    "class BST:\n",
    "    \"\"\"二叉搜索树实现\"\"\"\n",
    "    def __init__(self):\n",
    "        self.root = None\n",
    "\n",
    "    def insert(self, val):\n",
    "        \"\"\"插入节点\"\"\"\n",
    "        if not self.root:\n",
    "            self.root = TreeNode(val)\n",
    "            return\n",
    "\n",
    "        current = self.root\n",
    "        while True:\n",
    "            if val < current.val:\n",
    "                if current.left:\n",
    "                    current = current.left\n",
    "                else:\n",
    "                    current.left = TreeNode(val)\n",
    "                    break\n",
    "            else:\n",
    "                if current.right:\n",
    "                    current = current.right\n",
    "                else:\n",
    "                    current.right = TreeNode(val)\n",
    "                    break\n",
    "\n",
    "    def delete(self, root, val):\n",
    "        \"\"\"删除节点\"\"\"\n",
    "        if not root:\n",
    "            return root\n",
    "\n",
    "        if val < root.val:\n",
    "            root.left = self.delete(root.left, val)\n",
    "        elif val > root.val:\n",
    "            root.right = self.delete(root.right, val)\n",
    "        else:  # 找到要删除的节点\n",
    "            if not root.left:\n",
    "                return root.right  # 只有右子树或无子树\n",
    "            elif not root.right:\n",
    "                return root.left  # 只有左子树\n",
    "\n",
    "            # 有左右子树，找到右子树的最小节点（后继）\n",
    "            min_larger_node = self.find_min(root.right)\n",
    "            root.val = min_larger_node.val\n",
    "            root.right = self.delete(root.right, min_larger_node.val)\n",
    "\n",
    "        return root\n",
    "\n",
    "    def find_min(self, node):\n",
    "        \"\"\"找到最小节点\"\"\"\n",
    "        while node.left:\n",
    "            node = node.left\n",
    "        return node\n",
    "\n",
    "    def inorder_traversal(self, root, result):\n",
    "        \"\"\"中序遍历\"\"\"\n",
    "        if root:\n",
    "            self.inorder_traversal(root.left, result)\n",
    "            result.append(root.val)\n",
    "            self.inorder_traversal(root.right, result)\n",
    "\n",
    "# 初始化 BST 并插入元素\n",
    "nums = [9, -3, -10, 0, 9, 7, 33]\n",
    "bst = BST()\n",
    "for num in nums:\n",
    "    bst.insert(num)\n",
    "\n",
    "# 删除元素 0\n",
    "bst.root = bst.delete(bst.root, 0)\n",
    "\n",
    "# 中序遍历输出\n",
    "result = []\n",
    "bst.inorder_traversal(bst.root, result)\n",
    "print(result)  # 预期输出：[-10, -3, 7, 9, 9, 33]\n",
    "# your algorithm time complexity is:\n"
   ],
   "outputs": [
    {
     "name": "stdout",
     "output_type": "stream",
     "text": [
      "[-10, -3, 7, 9, 9, 33]\n"
     ]
    }
   ],
   "execution_count": 18
  },
  {
   "cell_type": "markdown",
   "metadata": {},
   "source": [
    "## 问题 6  \n",
    "\n",
    "> 给定一个包含大写字母和小写字母的字符串 s ，返回 字符串包含的 **最长的回文子串的长度** 。请注意 区分大小写 。比如 \"Aa\" 不能当做一个回文字符串。\n",
    ">\n",
    "\n",
    "请设计一个算法解决上述问题，只需要输出最长回文子串的长度，分析算法设计思路，计算时间复杂度，并基于python编程实现\n",
    "\n",
    "e.g. 输入： s=\"adccaccd\"，  输出：7。 最长回文子串为：\"dccaccd\", 长度为7\n"
   ]
  },
  {
   "cell_type": "markdown",
   "metadata": {},
   "source": [
    "idea：  \n",
    "有点忘记什么是回文子串了，借助AI理解了  \n",
    "回文子串的定义是：一个字串是回文，当它正读和反读都相同，并且区分大小写  \n",
    "可以用中心扩展法来做  \n",
    "遍历字符串中的每个字符，视其为回文中心，向两侧扩展，寻找最长回文  \n",
    "需要考虑两种情况：  \n",
    "1. 单中心（奇数长度的回文，如'aba')  \n",
    "2. 双中心 （偶数长度的回文，如'abba')  \n",
    "时间复杂度： $O(n^2)$"
   ]
  },
  {
   "cell_type": "code",
   "metadata": {
    "ExecuteTime": {
     "end_time": "2025-03-24T06:27:43.636456Z",
     "start_time": "2025-03-24T06:27:43.572546Z"
    }
   },
   "source": [
    "# add your idea here\n",
    "def expand_from_center(s, left, right):\n",
    "    \"\"\"从中心向两侧扩展，找到最长的回文子串长度\"\"\"\n",
    "    while left >= 0 and right < len(s) and s[left] == s[right]:\n",
    "        left -= 1\n",
    "        right += 1\n",
    "    return right - left - 1, left + 1  # 返回回文长度和回文的起始位置\n",
    "\n",
    "def longest_palindromic_substring(s):\n",
    "    \"\"\"返回最长回文子串及其长度\"\"\"\n",
    "    if not s:\n",
    "        return \"\", 0\n",
    "\n",
    "    max_length = 0\n",
    "    start = 0  # 最长回文子串的起始位置\n",
    "\n",
    "    for i in range(len(s)):\n",
    "        # 奇数长度回文\n",
    "        len1, start1 = expand_from_center(s, i, i)\n",
    "        # 偶数长度回文\n",
    "        len2, start2 = expand_from_center(s, i, i + 1)\n",
    "\n",
    "        # 更新最长回文子串\n",
    "        if len1 > max_length:\n",
    "            max_length = len1\n",
    "            start = start1\n",
    "        if len2 > max_length:\n",
    "            max_length = len2\n",
    "            start = start2\n",
    "\n",
    "    # 提取回文子串\n",
    "    longest_palindrome = s[start:start + max_length]\n",
    "    return longest_palindrome, max_length\n",
    "\n",
    "# 示例输入\n",
    "s = \"adccaccd\"\n",
    "longest_palindrome, length = longest_palindromic_substring(s)\n",
    "print(f\"最长回文子串: {longest_palindrome}, 长度: {length}\")\n",
    "\n",
    "# your algorithm time complexity is: O(n^2)"
   ],
   "outputs": [
    {
     "name": "stdout",
     "output_type": "stream",
     "text": [
      "最长回文子串: dccaccd, 长度: 7\n"
     ]
    }
   ],
   "execution_count": 20
  },
  {
   "cell_type": "markdown",
   "metadata": {},
   "source": [
    "## 问题 7 \n",
    "\n",
    "> 沿一条长河流分散着n座房子。你可以把这条河想象成一条轴，房子是由它们在这条轴上的坐标按顺序排列的。你的公司想在河边的特定地点设置手机基站，这样每户人家都在距离基站4公里的范围内。输入可以看作为一个升序数组，数组元素的取值为大于等于0的正整数，你需要输出最小基站的数目，基站的位置。\n",
    "\n",
    "1. 给出一个时间复杂度为$O(n$) 的算法，使所使用的基站数量最小化，分析算法设计思路，使用python编程实现\n",
    "2. 证明1.中算法产生了最优解决方案。\n",
    "\n",
    "e.g. \n",
    "\n",
    "输入： [1, 5, 12, 33, 34,35]  输出：基站数目为3， 基站位置为[1，12，33]\n",
    "\n"
   ]
  },
  {
   "cell_type": "markdown",
   "metadata": {},
   "source": [
    "idea：  \n",
    "可以通过贪心算法来解决，目的是在保证每户人家都在基站的覆盖范围内的同时，最小化基站的数量  \n",
    "老师给出的输入，其对应的输出应该是不唯一的"
   ]
  },
  {
   "cell_type": "code",
   "metadata": {
    "ExecuteTime": {
     "end_time": "2025-03-24T07:04:30.406158Z",
     "start_time": "2025-03-24T07:04:30.377237Z"
    }
   },
   "source": [
    "# add your idea here\n",
    "def min_stations(houses, coverage=4):\n",
    "    n = len(houses)\n",
    "    if n == 0:\n",
    "        return 0, []\n",
    "\n",
    "    stations = []  # 存储基站的位置\n",
    "    i = 0\n",
    "    while i < n:\n",
    "        # 选择基站位置\n",
    "        # 1. 选择第一个房子\n",
    "        s = houses[i]\n",
    "        # 2. 向右移动到最远可以覆盖的房子\n",
    "        while i < n and houses[i] <= s + coverage:\n",
    "            i += 1\n",
    "        # 3. 将基站位置设置为当前覆盖的最远房子\n",
    "        station_pos = houses[i - 1]\n",
    "        stations.append(station_pos)\n",
    "        \n",
    "        # 4. 跳过所有已覆盖的房子\n",
    "        while i < n and houses[i] <= station_pos + coverage:\n",
    "            i += 1\n",
    "\n",
    "    return len(stations), stations\n",
    "\n",
    "# 示例输入\n",
    "houses = [1, 5, 12, 33, 34, 35]\n",
    "num_stations, stations = min_stations(houses)\n",
    "print(f\"基站数目为{num_stations}，基站位置为{stations}\")\n",
    "\n",
    "# your algorithm time complexity is: O(n)"
   ],
   "outputs": [
    {
     "name": "stdout",
     "output_type": "stream",
     "text": [
      "基站数目为3，基站位置为[5, 12, 35]\n"
     ]
    }
   ],
   "execution_count": 22
  },
  {
   "cell_type": "markdown",
   "metadata": {},
   "source": [
    "## 问题 8  \n",
    "\n",
    "> 给定由n个正整数组成的一个集合$S = \\{a_1, a_2，···，a_n\\}$和一个正整数W，设计一个算法确定是否存在S的一个子集 $K \\subseteq S$, 使K中所有数之和为 $W$, 如果存在返回“True”，否则返回“False”\n",
    "\n",
    "请设计一个时间复杂度为$O(nW)$动态规划算法，解决上述问题，分析算法的设计思路，并且基于python编程实现（不需要输出子集）。\n",
    "\n",
    "e.g. \n",
    "\n",
    "输入：S = {1,4,7,3,5}， W = 11，输出：True。   因为K可以是{4,7}。\n",
    "\n"
   ]
  },
  {
   "cell_type": "markdown",
   "metadata": {},
   "source": [
    "idea：  \n",
    "这个问题经典的0/1背包问题的变种，常见于动态规划问题中。目标是确定是否存在一个子集K，其所有元素之和恰好等于给定的整数W  \n",
    "我们可以通过动态规划来解决这个问题，定义一个布尔类型的数组dp，其中 dp[i] 表示是否存在一个子集，能够使得子集中的元素之和恰好等于i。  \n",
    "初始状态：  \n",
    "dp[0] = True，表示总和为 0 的子集（即空集）是存在的。  \n",
    "其他的 dp[i]（i > 0）初始值设为 False。  \n",
    "状态转移：  \n",
    "对于每个元素 a_j，我们要判断是否能通过已有的子集和添加 a_j 来形成新的和。具体来说，如果当前 dp[j] 是 True，那么 dp[j + a_j] 应该被设为 True。  \n",
    "注意，更新 dp 数组时要从大到小进行更新，防止重复使用一个元素多次。  \n",
    "目标：  \n",
    "最终检查 dp[W]，如果为 True，说明存在一个子集，其元素和为 W\n",
    "时间复杂度：O（nW)"
   ]
  },
  {
   "cell_type": "code",
   "metadata": {
    "ExecuteTime": {
     "end_time": "2025-03-24T07:09:24.544459Z",
     "start_time": "2025-03-24T07:09:24.524974Z"
    }
   },
   "source": [
    "# add your idea here\n",
    "def subset_sum(S, W):\n",
    "    n = len(S)\n",
    "    # 初始化dp数组，dp[i]表示是否能通过某些元素的组合得到和为i\n",
    "    dp = [False] * (W + 1)\n",
    "    dp[0] = True  # 和为0是始终存在的（空集）\n",
    "\n",
    "    # 遍历每个元素\n",
    "    for num in S:\n",
    "        # 从后往前更新dp数组，防止重复使用相同元素\n",
    "        for i in range(W, num - 1, -1):\n",
    "            if dp[i - num]:\n",
    "                dp[i] = True\n",
    "\n",
    "    return dp[W]  # 如果dp[W]为True，则说明存在子集和为W\n",
    "\n",
    "# 示例输入\n",
    "S = [1, 4, 7, 3, 5]\n",
    "W = 11\n",
    "print(subset_sum(S, W))  # 输出：True\n",
    "# your algorithm time complexity is: O(nW)"
   ],
   "outputs": [
    {
     "name": "stdout",
     "output_type": "stream",
     "text": [
      "True\n"
     ]
    }
   ],
   "execution_count": 23
  },
  {
   "cell_type": "markdown",
   "metadata": {},
   "source": [
    "\n",
    "\n",
    "## 问题 9 \n",
    "\n",
    "> 给定一个n个物品的集合。物体的重量为$w_1, w_2，…、w_n$，物品的价值分别是$v_1、v_2、…v_n$。给你**两个**重量为 $c$ 的背包。如果你带了一个东西，它可以放在一个背包里，也可以放在另一个背包里，但不能同时放在两个背包里。所有权重和价值都是正整数。\n",
    "\n",
    "1. 设计一个时间复杂度为 $O(nc^2)$ 的动态规划算法，确定可以放入两个背包的物体的最大价值。分析算法设计思路，并基于python编程实现\n",
    "2. \\* 修改1中的算法，输出每个背包的内容（物品对应下标）。\n",
    "\n",
    "e.g.: \n",
    "\n",
    "输入 V=[1,3,2,5,8,7], W=[1,3,2,5,8,7], c=7, 输出：最大价值=14，背包装的物品为：[6] [4，3] （同一个背包中物品装入顺序对结果无影响）  \n"
   ]
  },
  {
   "cell_type": "markdown",
   "metadata": {},
   "source": [
    "idea：  \n",
    "这个问题是双背包0/1背包问题，比单背包问题更复杂，需要考虑物品如何在两个背包中分配，以获得最大总价值  \n",
    "不清楚这道题应该如何去做，借助AI理解应该如何做  \n",
    "![图片描述](hw2_img/hw2_9.png)  "
   ]
  },
  {
   "cell_type": "code",
   "metadata": {
    "ExecuteTime": {
     "end_time": "2025-03-24T07:16:22.107555Z",
     "start_time": "2025-03-24T07:16:22.062677Z"
    }
   },
   "source": [
    "# add your idea here\n",
    "def two_knapsacks_with_items(V, W, c):\n",
    "    n = len(V)\n",
    "    \n",
    "    # dp[i][j][k] 存储最大总价值\n",
    "    dp = [[[0] * (c + 1) for _ in range(c + 1)] for _ in range(n + 1)]\n",
    "    # trace[i][j][k] 记录物品放置方式\n",
    "    trace = [[[0] * (c + 1) for _ in range(c + 1)] for _ in range(n + 1)]\n",
    "\n",
    "    for i in range(1, n + 1):\n",
    "        weight = W[i - 1]  \n",
    "        value = V[i - 1]   \n",
    "\n",
    "        for j in range(c + 1):\n",
    "            for k in range(c + 1):\n",
    "                # 继承前一个物品的状态（默认不放）\n",
    "                dp[i][j][k] = dp[i - 1][j][k]\n",
    "                trace[i][j][k] = 0  # 默认不放\n",
    "                \n",
    "                # 选择放入第一个背包\n",
    "                if j >= weight and dp[i - 1][j - weight][k] + value > dp[i][j][k]:\n",
    "                    dp[i][j][k] = dp[i - 1][j - weight][k] + value\n",
    "                    trace[i][j][k] = 1  # 标记放入第一个背包\n",
    "                \n",
    "                # 选择放入第二个背包\n",
    "                if k >= weight and dp[i - 1][j][k - weight] + value > dp[i][j][k]:\n",
    "                    dp[i][j][k] = dp[i - 1][j][k - weight] + value\n",
    "                    trace[i][j][k] = 2  # 标记放入第二个背包\n",
    "\n",
    "    # 结果值\n",
    "    max_value = dp[n][c][c]\n",
    "    \n",
    "    # **回溯求解每个背包放的物品**\n",
    "    bag1, bag2 = [], []\n",
    "    j, k = c, c\n",
    "    \n",
    "    for i in range(n, 0, -1):\n",
    "        if trace[i][j][k] == 1:  # 物品 i 放入背包1\n",
    "            bag1.append(i)\n",
    "            j -= W[i - 1]\n",
    "        elif trace[i][j][k] == 2:  # 物品 i 放入背包2\n",
    "            bag2.append(i)\n",
    "            k -= W[i - 1]\n",
    "\n",
    "    return max_value, bag1[::-1], bag2[::-1]\n",
    "\n",
    "# 测试\n",
    "V = [1, 3, 2, 5, 8, 7]\n",
    "W = [1, 3, 2, 5, 8, 7]\n",
    "c = 7\n",
    "max_value, bag1, bag2 = two_knapsacks_with_items(V, W, c)\n",
    "print(f\"最大价值: {max_value}\")\n",
    "print(f\"背包1装的物品索引: {bag1}\")\n",
    "print(f\"背包2装的物品索引: {bag2}\")\n",
    "# your algorithm time complexity is: O(nc^2)"
   ],
   "outputs": [
    {
     "name": "stdout",
     "output_type": "stream",
     "text": [
      "最大价值: 14\n",
      "背包1装的物品索引: [6]\n",
      "背包2装的物品索引: [3, 4]\n"
     ]
    }
   ],
   "execution_count": 25
  },
  {
   "cell_type": "markdown",
   "metadata": {},
   "source": [
    "## 问题 10 \n",
    "\n",
    "> 给定两个字符串 $x[1..n]$ 和 $y[1..m]$，我们想通过以下操作将 $x$ 变换为 $y$ :\n",
    ">\n",
    "> **插入**：在 $x$ 中插入一个字符(在任何位置)；**删除**：从 $x$ 中删除一个字符(在任何位置)； **替换**：用另一个字符替换 $x$ 中的一个字符。\n",
    ">\n",
    "> 例如: $x = abcd$, $y = bcfe$，\n",
    ">\n",
    "> - 将 $x$ 转换为 $y$ 的一种可能方法是：1. 删除 $x$ 开头的 $a$, $x$变成 $bcd$； 2. 将 $x$ 中的字符 $d$ 替换为字符 $f$。$x$ 变成 $bcf$； 3. 在 $x$ 的末尾插入字符 $e$。$x$ 变成 $bcfe$。\n",
    ">\n",
    "> - 另一种可能的方法：1. 删除 $x$ 开头的 $a$,  $x$ 变成 $bcd$； 2. 在 $x$ 中字符 $d$ 之前插入字符 $f$。$x$ 变成 $bcfd$。3. 将 $x$ 中的字符 $d$ 替换为字符 $e$。$x$ 变成 $bcfe$。\n",
    "\n",
    "设计一个时间复杂度为 $O(mn)$ 的算法，返回将 $x$ 转换为 $y$ 所需的最少操作次数。分析算法设计思路，并基于python编程实现。\n"
   ]
  },
  {
   "cell_type": "markdown",
   "metadata": {},
   "source": [
    "idea：  \n",
    "这个问题是编辑距离问题，通常用动态规划求解，时间复杂度为O（mn)  \n",
    "借助AI理解应该如何做  \n",
    "![图片描述](hw2_img/hw2_10.png) \n"
   ]
  },
  {
   "cell_type": "code",
   "metadata": {
    "ExecuteTime": {
     "end_time": "2025-03-24T07:44:18.560735Z",
     "start_time": "2025-03-24T07:44:18.509492Z"
    }
   },
   "source": [
    "# add your idea here\n",
    "def min_edit_distance(x: str, y: str) -> int:\n",
    "    n, m = len(x), len(y)\n",
    "    \n",
    "    # 初始化 DP 数组\n",
    "    dp = [[0] * (m + 1) for _ in range(n + 1)]\n",
    "    \n",
    "    # 边界条件\n",
    "    for i in range(n + 1):\n",
    "        dp[i][0] = i  # 需要删除 i 次\n",
    "    for j in range(m + 1):\n",
    "        dp[0][j] = j  # 需要插入 j 次\n",
    "\n",
    "    # 计算 DP 数组\n",
    "    for i in range(1, n + 1):\n",
    "        for j in range(1, m + 1):\n",
    "            if x[i - 1] == y[j - 1]:  # 如果字符相等，则无操作\n",
    "                dp[i][j] = dp[i - 1][j - 1]\n",
    "            else:  # 计算插入、删除、替换的最优方案\n",
    "                dp[i][j] = min(dp[i - 1][j] + 1,    # 删除\n",
    "                               dp[i][j - 1] + 1,    # 插入\n",
    "                               dp[i - 1][j - 1] + 1) # 替换\n",
    "\n",
    "    return dp[n][m]\n",
    "\n",
    "# 测试\n",
    "x = \"abcd\"\n",
    "y = \"bcfe\"\n",
    "print(min_edit_distance(x, y))  # 输出：3\n",
    "# your algorithm time complexity is: O(mn)"
   ],
   "outputs": [
    {
     "name": "stdout",
     "output_type": "stream",
     "text": [
      "3\n"
     ]
    }
   ],
   "execution_count": 26
  },
  {
   "metadata": {},
   "cell_type": "code",
   "outputs": [],
   "execution_count": null,
   "source": ""
  }
 ],
 "metadata": {
  "language_info": {
   "name": "python"
  },
  "kernelspec": {
   "name": "python3",
   "language": "python",
   "display_name": "Python 3 (ipykernel)"
  }
 },
 "nbformat": 4,
 "nbformat_minor": 2
}
