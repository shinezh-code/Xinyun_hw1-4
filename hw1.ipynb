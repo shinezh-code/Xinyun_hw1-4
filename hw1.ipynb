{
 "cells": [
  {
   "cell_type": "markdown",
   "metadata": {},
   "source": [
    "## algorithm design and anlysis-2025 spring  homework 1 \n",
    "**Deadline**：2025.5.14\n",
    "\n",
    "**name**:\n",
    "\n",
    "\n",
    "note：\n",
    "---\n",
    "1. 带有\\*的题目，申请免上课的同学，必须完成，其他同学选作；\n",
    "2. 请独立完成，如求助了他人或者大模型，请著明，并且不可省略算法分析部分；\n",
    "4. 如若作答有雷同，全部取消成绩；\n",
    "3. 需要书面作答的题目，可以通过引用图片的形式添加，但是注意上传项目时包含所引用的图片的源文件；\n",
    "4. $log_n$ 默认表示$log_2{n}$;"
   ]
  },
  {
   "cell_type": "markdown",
   "metadata": {},
   "source": [
    "## 问题 1\n",
    "\n",
    "对于下面的每一对表达式(A, B), A是否能表示为B的 $\\Theta, \\Omega ,O$形式. 请注意, 这些关系中的零个、一个或多个可能成立。列出所有正确的。经常发生一些学生会,把指示写错, 所以请把关系写完整, 例如: $A = O(B),  A =\\Theta(B)$, 或$A = \\Omega(B)$。\n",
    "\n",
    "1. $A=n^2-100n, B=n^2$\n",
    "2. $A=logn, B=log_{1.2}n$\n",
    "3. $A=3^{2n}, B=2^{4n}$\n",
    "4. $A=2^{logn}, B=n$\n",
    "5. $A=\\log{\\log}{n},B=10^{10^{100}}$"
   ]
  },
  {
   "metadata": {},
   "cell_type": "markdown",
   "source": [
    "借助AI理解$A = O(B),  A =\\Theta(B)$, 或$A = \\Omega(B)$代表什么含义  \n",
    "第一题:  \n",
    "分析：$A = n^2 - 100n$主要是一个二次函数，其中-100n在n很大时是较小的，因此A的增长速度和$B = n^2$相同  \n",
    "结论：$A =\\Theta(B)$  \n",
    "第二题:  \n",
    "分析：$logn和log_{1.2}n$只是常数倍的差异  \n",
    "结论：$A =\\Theta(B)$  \n",
    "第三题：  \n",
    "分析： $3^{2n}=(3^2)^n=9^n,而2^{4n}=16^n,而9^n的增长速度远慢于16^n，因此A的增长速度远小于B$  \n",
    "结论：$A = O(B)$  \n",
    "第四题：\n",
    "分析：$A=2^{logn}=n,因此A和B实际上是相等的$  \n",
    "结论：$A =\\Theta(B)$  \n",
    "第五题：  \n",
    "分析：$A=\\log{\\log}{n}是一个非常缓慢增长的函数,B=10^{10^{100}}是常数。$  \n",
    "结论：  $A = \\Omega(B)$  \n"
   ]
  },
  {
   "cell_type": "markdown",
   "metadata": {},
   "source": [
    "can refer a handwritten picture, pleas upload the picture in /fig/xxx.png\n",
    "answer:\n"
   ]
  },
  {
   "cell_type": "markdown",
   "metadata": {},
   "source": [
    "## 问题 2：\n",
    "\n",
    "假设有函数 $f$ 和 $g$ 使得 $f(n)$ = $O(g(n))$ 对于下面的每一个陈述, 请判断对错, 如果正确请给出证明, 否则请给出一个反例。\n",
    "\n",
    "1. $\\log{f(n)}$ = $O(\\log(1+g(n)))$\n",
    "2. $3^{f(n)}=O(3^{g(n)})$\n",
    "3. $(f(n))^2=O((g(n))^2)$ "
   ]
  },
  {
   "metadata": {},
   "cell_type": "markdown",
   "source": "![图片描述](hw1_img/hw1_2.png)  "
  },
  {
   "cell_type": "markdown",
   "metadata": {},
   "source": [
    "you can refer a handwritten picture, pleas upload the picture in /fig/xxx.png\n",
    "answer:"
   ]
  },
  {
   "cell_type": "markdown",
   "metadata": {},
   "source": [
    "## 问题 3\n",
    "\n",
    "根据下列递归公式, 计算下列 $T(n)$ 对应的的渐近上界。要求所求的边界尽可能的紧（tight）, 请写明步骤。\n",
    "\n",
    "1. $T(1)=1; T(n)=T(n/4)+1$ for $n>1$\n",
    "2. $T(1)=1;T(n)=3T(n/3)+n^2$ for $n>1$\n",
    "3. $T(1)=1;T(n)=T(2n/3)+1$ for $n>1$\n",
    "4. $T(1)=1;T(n)=5T(n/4)+n$ for $n>1$\n",
    "5. $T(n)=1 \\ for\\ n \\le 2 ; T(n)=T(\\sqrt{n})+1 \\ for \\ n>2$"
   ]
  },
  {
   "cell_type": "markdown",
   "metadata": {},
   "source": [
    "can refer a handwritten picture, pleas upload the picture in /fig/xxx.png\n",
    "answer:  \n",
    "![图片描述](hw1_img/hw1_3_1.jpg)  \n",
    "![图片描述](hw1_img/hw1_3_2.jpg)"
   ]
  },
  {
   "cell_type": "markdown",
   "metadata": {},
   "source": [
    "## 问题 4：\n",
    "\n",
    "给定一个包含n个元素的数组 `profits` , 它的第 `i` 个元素 `profits[i]` 表示一支股票第 `i` 天的**收益**（正数表示涨, 负数表示跌）。你只能选择 **某一天** 买入这只股票, 并选择在 **未来的某一个不同的日子** 卖出该股票。\n",
    "\n",
    "1. 设计一个算法来计算你所能获取的最大利润和对应买入和卖出的日期。请分析算法方案, 计算其时间复杂度, 并且使用python编程实现该算法。\n",
    "\n",
    "2. \\* 设计一个时间复杂度为 $O(n)$的算法实现该算法\n",
    "\n",
    "e.g. :\n",
    "---\n",
    "profits=[3,2,1,-7,5,2,-1,3,-1], 第5天买入, 第8天卖出, 收益最大：9\n",
    "\n"
   ]
  },
  {
   "cell_type": "markdown",
   "metadata": {},
   "source": [
    "idea:在课堂上老师讲过该题，有好几种做法，对于我个人来说分治法比较好理解  \n",
    "思路：递归将profits数组分成左右两部分，然后在三个部分中寻找最优解  \n",
    "左半部分的最大收益 右半部分的最大受益 跨越中间的最大收益  \n",
    "跨越之间的最大收益需要计算左侧最低点买入+右侧最高点卖出的收益  \n",
    "该方法时间复杂度为O(nlogn),因为递归会将数组不断划分(O(logn)),每次合并需要O(n)的计算  \n"
   ]
  },
  {
   "cell_type": "code",
   "metadata": {
    "ExecuteTime": {
     "end_time": "2025-03-13T09:29:31.477594Z",
     "start_time": "2025-03-13T09:29:31.462600Z"
    }
   },
   "source": [
    "def max_crossing_profit(profits, left, mid, right):\n",
    "    \"\"\" 计算跨越中点的最大收益（子数组最大和） \"\"\"\n",
    "\n",
    "    # 计算左侧最大收益\n",
    "    left_sum = float('-inf')\n",
    "    sum_val = 0\n",
    "    max_left = mid  # 初始化买入点\n",
    "    for i in range(mid, left - 1, -1):  # 从 mid 向左扫描\n",
    "        sum_val += profits[i]\n",
    "        if sum_val > left_sum:\n",
    "            left_sum = sum_val\n",
    "            max_left = i\n",
    "\n",
    "    # 计算右侧最大收益\n",
    "    right_sum = float('-inf')\n",
    "    sum_val = 0\n",
    "    max_right = mid + 1  # 初始化卖出点\n",
    "    for j in range(mid + 1, right + 1):  # 从 mid+1 向右扫描\n",
    "        sum_val += profits[j]\n",
    "        if sum_val > right_sum:\n",
    "            right_sum = sum_val\n",
    "            max_right = j\n",
    "\n",
    "    # 返回买入日，卖出日，总收益\n",
    "    return max_left, max_right, left_sum + right_sum\n",
    "\n",
    "\n",
    "def max_profit_divide_conquer(profits, left, right):\n",
    "    \"\"\" 递归计算最大收益 \"\"\"\n",
    "    if left == right:\n",
    "        return left, right, profits[left]  # 只有一天时，收益就是 profits[left]\n",
    "\n",
    "    mid = (left + right) // 2\n",
    "\n",
    "    # 递归计算左右子数组的最大收益\n",
    "    left_buy, left_sell, left_profit = max_profit_divide_conquer(profits, left, mid)\n",
    "    right_buy, right_sell, right_profit = max_profit_divide_conquer(profits, mid + 1, right)\n",
    "    cross_buy, cross_sell, cross_profit = max_crossing_profit(profits, left, mid, right)\n",
    "\n",
    "    # 选择收益最大的方案\n",
    "    if left_profit >= right_profit and left_profit >= cross_profit:\n",
    "        return left_buy, left_sell, left_profit\n",
    "    elif right_profit >= left_profit and right_profit >= cross_profit:\n",
    "        return right_buy, right_sell, right_profit\n",
    "    else:\n",
    "        return cross_buy, cross_sell, cross_profit\n",
    "\n",
    "\n",
    "def find_max_profit(profits):\n",
    "    \"\"\" 入口函数 \"\"\"\n",
    "    if not profits or len(profits) < 1:\n",
    "        return None, None, 0\n",
    "    buy, sell, max_profit = max_profit_divide_conquer(profits, 0, len(profits) - 1)\n",
    "    return buy + 1, sell + 1, max_profit  # 1-based index\n",
    "\n",
    "# 测试\n",
    "profits = [3, 2, 1, -7, 5, 2, -1, 3, -1]\n",
    "buy, sell, max_profit = find_max_profit(profits)\n",
    "print(f\"第{buy}天买入, 第{sell}天卖出, 收益最大：{max_profit}\")"
   ],
   "outputs": [
    {
     "name": "stdout",
     "output_type": "stream",
     "text": [
      "第5天买入, 第8天卖出, 收益最大：9\n"
     ]
    }
   ],
   "execution_count": 10
  },
  {
   "cell_type": "code",
   "metadata": {
    "ExecuteTime": {
     "end_time": "2025-03-12T13:30:49.821824Z",
     "start_time": "2025-03-12T13:30:49.819343Z"
    }
   },
   "source": [
    "# an algorithm with O(n)"
   ],
   "outputs": [],
   "execution_count": 15
  },
  {
   "cell_type": "markdown",
   "metadata": {},
   "source": [
    "## 问题 5：\n",
    "\n",
    "观察下方的分治算法（divide-and-conquer algorithm）的伪代码, 回答下面问题\n",
    "\n",
    "```latex\n",
    "DoSomething(A,p,r)\n",
    "-----\n",
    "n := r-p+1\n",
    "if n=2 and A[p]>A[r] then\n",
    "    swap A[p] and A[r]\n",
    "else if n >= 3 then\n",
    "    m = ceil(2n/3)\n",
    "    DoSomething(A,p,p+m-1)\n",
    "    DoSomething(A,r-m+1,r)\n",
    "    DoSomething(A,p,p+m-1)  \n",
    "    \n",
    "---\n",
    "first call: DoSomething(A,1,n)\n",
    "```\n",
    "\n",
    "note：$ceil(2n/3)=\\left\\lceil {2n/3} \\right\\rceil$；$:=$ 表示赋值, 等价于 $\\to$；A是一个包含n的整数元素的数组, \n",
    "\n",
    "1. 写出该算法时间复杂度的递归公式, 并求解其对应的渐进表示\n",
    "2. 描述一下该算法的功能, 并判断是否是最高效的解决方案\n",
    "3. 使用python编程实现上述算法或其对应的更高效版本的算法\n"
   ]
  },
  {
   "cell_type": "markdown",
   "metadata": {},
   "source": [
    "idea：  \n",
    "从伪代码来看，若n=2,并且A[p]>A[r],则交换A[p]和A[r]  \n",
    "若$n \\geqslant 3$,则：\n",
    "1.递归处理前ceil(2n/3)个元素；2.递归处理后ceil(2n/3)个元素；3.再次递归处理前ceil(2n/3)个元素  \n",
    "因此设T(n)表示该算法的时间复杂度，则有递归方程：  \n",
    "$T(n) = 2T\\left(\\left\\lceil \\frac{2n}{3} \\right\\rceil\\right) + O(1)$  \n",
    "这里O(1)表示非递归部分的常数级操作  \n",
    "![图片描述](hw1_img/hw1_5.jpg)  \n",
    "算法功能：该算法本质上是双端冒泡排序的一种递归优化版本，类似Stooge Sort:  \n",
    "主要用于排序数组，通过递归不断将较大元素推向后部，较小1元素推向前部；  \n",
    "其核心思想是三次递归调用来保证排序稳定  \n",
    "该算法的时间复杂度为O(n^{0.63}),比常规O(nlogn)排序算法更慢  \n",
    "最优排序算法（快排、归并、堆排序）均为O(nlogn),因此该算法并非最高效  \n",
    "\n",
    "\n",
    "\n"
   ]
  },
  {
   "cell_type": "code",
   "metadata": {
    "ExecuteTime": {
     "end_time": "2025-03-13T10:03:54.831865Z",
     "start_time": "2025-03-13T10:03:54.813222Z"
    }
   },
   "source": [
    "# add your code here\n",
    "def quicksort(arr):\n",
    "    if len(arr) <= 1:\n",
    "        return arr\n",
    "    pivot = arr[len(arr) // 2]\n",
    "    left = [x for x in arr if x < pivot]\n",
    "    middle = [x for x in arr if x == pivot]\n",
    "    right = [x for x in arr if x > pivot]\n",
    "    return quicksort(left) + middle + quicksort(right)\n",
    "\n",
    "# 测试\n",
    "A = [5, 3, 1, 7, 2, 6, 4]\n",
    "sorted_A = quicksort(A)\n",
    "print(\"快速排序后的数组:\", sorted_A)\n",
    "# your algorithm time complexity is :\n",
    "#O(nlogn)"
   ],
   "outputs": [
    {
     "name": "stdout",
     "output_type": "stream",
     "text": [
      "快速排序后的数组: [1, 2, 3, 4, 5, 6, 7]\n"
     ]
    }
   ],
   "execution_count": 11
  },
  {
   "cell_type": "markdown",
   "metadata": {},
   "source": [
    "## 问题 6：\n",
    "\n",
    "给定一个大小为 `n` 的数组 `nums` , 返回其中的多数元素。多数元素是指在数组中出现次数 **大于** `⌊ n/2 ⌋` 的元素。\n",
    "\n",
    "你可以假设数组是非空的, 并且给定的数组总是存在多数元素。\n",
    "\n",
    "1. 设计一个算法找到给定数组的多数元素, 分析算法设计思路, 计算算法时间复杂度, 使用python编程实现\n",
    "2. \\* 设计时间复杂度为 O(n)、空间复杂度为 O(1) 的算法解决此问题, 分析算法设计思路, 使用python编程实现\n",
    "\n",
    "e.g.:\n",
    "---\n",
    "1. nums=[3,2,3], 返回3\n",
    "2. nums=[2,2,1,1,1,2,2], 返回2\n"
   ]
  },
  {
   "metadata": {},
   "cell_type": "markdown",
   "source": [
    "idea：  \n",
    "统计每个元素的出现次数，找到出现次数大于`⌊ n/2 ⌋` 的元素  \n",
    "借助AI知道了可以用哈希表统计法  \n",
    "哈希表是一种键值对数据结构，我们可以利用它来统计每个元素出现的次数，并找到出现次数最多的元素。  \n",
    "流程：  \n",
    "首先遍历数组，使用哈希表（字典dict或collections.Counter）来记录每个元素的出现次数。  \n",
    "其次找到出现出现次数大于`⌊ n/2 ⌋` 的元素  \n",
    "总时间复杂度：  \n",
    "哈希表构造：O(n)  \n",
    "哈希表遍历：O(n)  \n",
    "最终时间复杂度：O(n)+O(n)=O(n)"
   ]
  },
  {
   "cell_type": "code",
   "metadata": {
    "ExecuteTime": {
     "end_time": "2025-03-13T11:05:28.839138Z",
     "start_time": "2025-03-13T11:05:28.827138Z"
    }
   },
   "source": [
    "# add your code here\n",
    "from collections import Counter\n",
    "\n",
    "def majority_element(nums):\n",
    "    count = Counter(nums)  # 统计每个元素的出现次数\n",
    "    n = len(nums)  # 获取数组长度\n",
    "    for key, value in count.items():\n",
    "        if value > n // 2:  # 确保次数超过 ⌊ n/2 ⌋\n",
    "            return key\n",
    "\n",
    "# 测试\n",
    "print(majority_element([3, 2, 3]))  # 输出 3\n",
    "print(majority_element([2, 2, 1, 1, 1, 2, 2]))  # 输出 2\n",
    "# your algorithm time complexity is : O(n)"
   ],
   "outputs": [
    {
     "name": "stdout",
     "output_type": "stream",
     "text": [
      "3\n",
      "2\n"
     ]
    }
   ],
   "execution_count": 12
  },
  {
   "cell_type": "markdown",
   "metadata": {},
   "source": [
    "idea for 2\\*："
   ]
  },
  {
   "cell_type": "code",
   "metadata": {
    "ExecuteTime": {
     "end_time": "2025-03-12T13:30:49.870420Z",
     "start_time": "2025-03-12T13:30:49.854753Z"
    }
   },
   "source": [
    "# algorithm time complexity：O(n), space complexity:O(1)\n",
    "# add your code here"
   ],
   "outputs": [],
   "execution_count": 18
  },
  {
   "cell_type": "markdown",
   "metadata": {},
   "source": [
    "## 问题 7：\n",
    "\n",
    "给定一个包含不同整数元素的数组 $ A[1..n]$ ,并且满足条件：$A[1]>A[2]$ 并且 $A[n-1]<A[n]$; 规定：如果一个元素比它两边的邻居元素都小, 即：$A[x]<A[x-1], A[x]<A[x+1]$ , 称这个元素A[x]为“局部最小”。通过遍历一次数组, 我们可以很容易在 $O(n)$的时间复杂度下找到一个局部最小值, \n",
    "\n",
    "\n",
    "1. 分析该问题, 设计一个算法在$O(logn)$的时间复杂度下找到一个局部最小(返回数值), 要求：分析算法设计思路, 并且使用python编程实现\n",
    "2. \\* 设计算法找出所有局部最小值, 分析算法设计思路, 并使用python编程实现\n",
    "\n",
    "e.g.:\n",
    "---\n",
    "A=[9, 3, 7, 2, 1, 4, 5 ] 时,  局部最小元素为 3, 1\n"
   ]
  },
  {
   "cell_type": "markdown",
   "metadata": {},
   "source": [
    "idea：看到题目时找局部最小值，首先想到的是数学里面的方法，求斜率，但是这不是一个连续的函数。但是可以利用这个思想，从左向右遍历数组，一旦发现A[i]比其左右邻居小，则返回该值，但是时间复杂度是O(n).  \n",
    "借助AI知道了可以用二分查找  \n",
    "选择数组的之间元素A[mid]:  \n",
    "如果A[mid]是局部最小值，直接返回  \n",
    "继续向左侧和右侧递归搜索  \n",
    "当left>right时，搜索范围为空,终止递归。  \n"
   ]
  },
  {
   "cell_type": "code",
   "metadata": {
    "ExecuteTime": {
     "end_time": "2025-03-14T07:03:09.833240Z",
     "start_time": "2025-03-14T07:03:09.815624Z"
    }
   },
   "source": [
    "# add your code here\n",
    "def find_all_local_minima(A):\n",
    "    def binary_search(left, right):\n",
    "        if left > right:\n",
    "            return []\n",
    "        \n",
    "        mid = (left + right) // 2\n",
    "        minima = []\n",
    "\n",
    "        # 检查是否是局部最小值\n",
    "        if (mid == 0 or A[mid] < A[mid - 1]) and (mid == len(A) - 1 or A[mid] < A[mid + 1]):\n",
    "            minima.append(A[mid])\n",
    "\n",
    "        # 递归搜索左侧和右侧\n",
    "        return minima + binary_search(left, mid - 1) + binary_search(mid + 1, right)\n",
    "    \n",
    "    return binary_search(0, len(A) - 1)\n",
    "\n",
    "# 示例\n",
    "A = [9, 3, 7, 2, 1, 4, 5]\n",
    "print(find_all_local_minima(A))  # 输出 [3, 1]\n",
    "# your algorithm time complexity is : O(logn)"
   ],
   "outputs": [
    {
     "name": "stdout",
     "output_type": "stream",
     "text": [
      "[3, 1]\n"
     ]
    }
   ],
   "execution_count": 14
  },
  {
   "cell_type": "markdown",
   "metadata": {},
   "source": [
    "idea:"
   ]
  },
  {
   "cell_type": "code",
   "metadata": {
    "ExecuteTime": {
     "end_time": "2025-03-12T13:30:49.903754Z",
     "start_time": "2025-03-12T13:30:49.889721Z"
    }
   },
   "source": [
    "# add your code here\n",
    "# your algorithm time complexity is :"
   ],
   "outputs": [],
   "execution_count": 20
  },
  {
   "cell_type": "markdown",
   "metadata": {},
   "source": [
    "## 问题 8：\n",
    "\n",
    "给定包含n个不同数字的一组数, 寻找一种基于比较的算法在这组数中找到k个最小的数字, 并按顺序输出它们。\n",
    "\n",
    "1. 将n个数先进行排序, 然后按顺序输出最小的k个数。要求：选择合适的排序算法实现上述操作, 计算算法时间复杂度, 并使用python编程实现。\n",
    "2. 建立一个包含这n个数的堆（heap）, 并且调用 k 次Extract-min 按顺序输出最小的k个数。使用往空堆中不断插入元素的方法建立堆, 分析这种方法建堆的时间复杂度, 并使用python编程实现\n",
    "3. \\* 假设数组中包含的数据总数目超过了计算机的存储能力, 请设计一个算法, 找到这堆数据的前k小的数值, 计算时间复杂度, 并使用python实现该算法, 假设计算机一定能存储k个数据。\n",
    "\n",
    "e.g.：\n",
    "---\n",
    "数组arr=[5,4,3,2,6,1,88,33,22,107] 的前3个最小数据为：1, 2, 3\n"
   ]
  },
  {
   "cell_type": "markdown",
   "metadata": {},
   "source": [
    "idea：\n",
    "可以使用python内置的sorted()使用Timsort(归并排序+插入排序结合），时间复杂度O(nlogn)  \n",
    "第二小问可以使用最小堆  \n",
    "首先建堆：从空堆开始，逐个插入n个元素，形成最小堆  \n",
    "取k个最小元素:每次调用extrac-min（取出最小元素）；进行k次后，即得到前k个最小元素。  \n",
    "时间复杂度分析：  \n",
    "建堆：每次insert操作的时间复杂度为O(logn),共n次，因此O(nlogn)  \n",
    "取k次最小元素：每次Extract-Min需要O(logn),共K次，因此O(klogn)  \n",
    "总时间复杂度：O(nlogn)"
   ]
  },
  {
   "cell_type": "code",
   "metadata": {
    "ExecuteTime": {
     "end_time": "2025-03-14T07:11:18.967418Z",
     "start_time": "2025-03-14T07:11:18.949431Z"
    }
   },
   "source": [
    "# add your code here\n",
    "def find_k_smallest_sort(arr, k):\n",
    "    arr.sort()  # 使用 Timsort 进行排序\n",
    "    return arr[:k]\n",
    "\n",
    "# 示例\n",
    "arr = [9, 3, 7, 2, 1, 4, 5]\n",
    "k = 3\n",
    "print(find_k_smallest_sort(arr, k))  # 输出 [1, 2, 3]\n",
    "# your algorithm time complexity is :O(nlogn)"
   ],
   "outputs": [
    {
     "name": "stdout",
     "output_type": "stream",
     "text": [
      "[1, 2, 3]\n"
     ]
    }
   ],
   "execution_count": 15
  },
  {
   "metadata": {
    "ExecuteTime": {
     "end_time": "2025-03-14T07:18:00.302430Z",
     "start_time": "2025-03-14T07:18:00.286763Z"
    }
   },
   "cell_type": "code",
   "source": [
    "# 第二小问\n",
    "import heapq\n",
    "\n",
    "def find_k_smallest_heap(arr, k):\n",
    "    min_heap = []\n",
    "    \n",
    "    # **Step 1: 构建最小堆 (逐个插入)**\n",
    "    for num in arr:\n",
    "        heapq.heappush(min_heap, num)  # O(log n) per insert\n",
    "    \n",
    "    # **Step 2: 取 k 个最小元素**\n",
    "    result = [heapq.heappop(min_heap) for _ in range(k)]  # O(log n) per extract\n",
    "    return result\n",
    "\n",
    "# 示例\n",
    "arr = [9, 3, 7, 2, 1, 4, 5]\n",
    "k = 3\n",
    "print(find_k_smallest_heap(arr, k))  # 输出 [1, 2, 3]"
   ],
   "outputs": [
    {
     "name": "stdout",
     "output_type": "stream",
     "text": [
      "[1, 2, 3]\n"
     ]
    }
   ],
   "execution_count": 16
  },
  {
   "cell_type": "markdown",
   "metadata": {},
   "source": [
    "## 问题 9：\n",
    "\n",
    "**选择问题**:给定一个包含n个未排序值的数组A和一个$k≤n$的整数, 返回A中最小的第k项。\n",
    "\n",
    "在课堂上, 学了一个简单的O(n)随机算法来解决选择问题。事实上还有一种更复杂的最坏情况下时间复杂度为$O(n)$ 的选择算法。假设使用一个黑盒过程来实现这个O(n)选择算法: 给定一个数组A、 $p < r$ 和 k,  $BB(A, p, r, k)$ 可以在$O(r−p+ 1)$时间内找到并报告$A[p..r]$中第k小的项的下标。假设你可以在线性时间内处理Partition过程。\n",
    "\n",
    "1. 请分析如何修改 Quicksork 算法可以使其最差情况下的运行时间为 $O(nlogn)$, 使用伪代码实现, 并分析为何修改后的版本最差情况的运行时间为$O(nlogn)$\n",
    "\n",
    "note: 伪代码中, 你可以直接调用用` BB(A,p,r,k)`这个函数用于表示在最坏情况下时间复杂度为$O(n)$的选择算法；\n",
    "\n",
    "\n",
    "\n",
    "2. 找到一个更好的算法报告数组A中的前k小的项, 使用伪代码表示你的算法, 并分析你算法的时间复杂度。\n",
    "\n",
    "举例：A=[13, 3, 7, 9, 11, 1, 15, 2, 8, 10, 12, 16, 14, 5], 当k=4时, 应该报告1, 2, 3, 4\n",
    "\n",
    "note： 最直观的方法就是先将数组A排序, 然后从左向右报告其前k项, 这样操作的时间复杂度为$O(nlogn)$. 调用用` BB(A,p,r,k)`设计一个算法使其报告无序数组A的前k项, 满足时间复杂度好于$\\Theta(nlogn)$, 并且当$k=\\sqrt{n}$时, 你设计的算法时间复杂度应该为$\\Theta(n)$.\n",
    "\n",
    "\n",
    "\n",
    "3. 给定一个大小为n的数组, 找到一个 时间复杂度为$O(n log k)$ 的算法, 该算法将A中的元素重新排序, 使它们被划分为k个部分, 每个部分的元素小于或等于下一部分的元素。假设n和k都是2的幂。使用伪代码表示你的算法, 并分析时间复杂度。\n",
    "\n",
    "e.g.:\n",
    "---\n",
    "数组：[1,  3,  5,  7,  9,  11,  13,  15,  2,  4,  6,  8,  10,  12,  16,  14], k=4, \n",
    "\n",
    "对应重新排序的数组为：[1,  3,  2,  4]  [7,  6,  5,  8]  [12,  11,  10,  9]  [13,  14,  16,  15]\n",
    "\n",
    "\n"
   ]
  },
  {
   "cell_type": "markdown",
   "metadata": {},
   "source": [
    "idea：\n",
    "问题一：  \n",
    "优化快排时间复杂度的方法知道，借助AI知道了原因  \n",
    "经典的快排最坏情况下时间复杂度是$O(n^2)$,每次选择的Pivot总是选择数组的最小或最大元素时，导致每次划分都非常不均匀  \n",
    "因此我们可以通过改进Pivot选择策略来优化最坏情况,使其时间复杂度稳定在O(nlogn)。需要确保每次划分尽可能平衡，即选取一个良好的枢轴，使得每次递归子数组的大小接近n/2  \n",
    "使用BFPRT算法选择枢轴，BFPRT(又称Median of Medians)算法可以在 最坏情况下以O(n)复杂度找到一个近似中位数的枢轴，从而保证 Quicksort 每次划分的子数组大小接近一半，使得整个排序的时间复杂度稳定在O(nlogn)  \n",
    "步骤：  \n",
    "1.使用BB(A,p,r,k)选择数组A[p:r]的中位数作为枢轴；  \n",
    "2.使用Partition操作将数组划分成两个部分；  \n",
    "3.递归地对左右两部分继续排序。  \n",
    "伪代码见代码框部分  \n",
    "![图片描述](hw1_img/hw1_9.png)  \n",
    "问题二：  \n",
    "我们可以使用BFPRT选择算法，在O(n)时间内找到第k小的元素，然后遍历数组筛选出钱K小的元素。  \n",
    "步骤：  \n",
    "调用BFPRT选择算法BB(A,p,r,k)找到第k小的元素（时间复杂度O(n))  \n",
    "遍历数组，将小于等于该元素的前k小项存入结果（时间复杂度O(n))  \n",
    "返回前k小的元素  \n",
    "伪代码见代码框   \n",
    "问题三：  \n",
    "未能理解题目意思，借助AI读题，并借助AI给出了解题思路。 \n",
    "代码及运行结果见代码框部分   \n",
    "\n",
    "\n",
    "\n",
    "\n",
    "\n",
    "\n"
   ]
  },
  {
   "cell_type": "code",
   "metadata": {
    "ExecuteTime": {
     "end_time": "2025-03-12T13:30:49.937282Z",
     "start_time": "2025-03-12T13:30:49.923094Z"
    }
   },
   "source": [
    "# add your pseudo-code here\n",
    "# 优化快排时间复杂度伪代码如下:\n",
    "def modified_quicksort(A, p, r):\n",
    "    if p < r:\n",
    "        # 使用 O(n) 复杂度的选择算法 BB(A, p, r, k) 找到“良好”枢轴\n",
    "        pivot_index = BB(A, p, r, (r - p) // 2)  \n",
    "        \n",
    "        # 进行 Partition 操作\n",
    "        pivot_index = partition(A, p, r, pivot_index)  \n",
    "        \n",
    "        # 递归处理左右子数组\n",
    "        modified_quicksort(A, p, pivot_index - 1)  \n",
    "        modified_quicksort(A, pivot_index + 1, r)  \n",
    "\n",
    "def partition(A, p, r, pivot_index):\n",
    "    # 将枢轴放到末尾\n",
    "    A[pivot_index], A[r] = A[r], A[pivot_index]  \n",
    "    pivot = A[r]  \n",
    "    i = p - 1  \n",
    "\n",
    "    for j in range(p, r):  \n",
    "        if A[j] <= pivot:  \n",
    "            i += 1  \n",
    "            A[i], A[j] = A[j], A[i]  \n",
    "\n",
    "    # 把枢轴放回正确位置\n",
    "    A[i + 1], A[r] = A[r], A[i + 1]  \n",
    "    return i + 1  "
   ],
   "outputs": [],
   "execution_count": 22
  },
  {
   "metadata": {},
   "cell_type": "code",
   "outputs": [],
   "execution_count": null,
   "source": [
    "#第二小问伪代码\n",
    "def find_k_smallest(A, p, r, k):\n",
    "    # 1. 使用 BFPRT 算法找到第 k 小的元素\n",
    "    kth_smallest = BB(A, p, r, k)  \n",
    "    \n",
    "    # 2. 遍历数组，收集前 k 小的元素\n",
    "    result = []\n",
    "    for num in A[p:r+1]:  \n",
    "        if num <= kth_smallest:\n",
    "            result.append(num)\n",
    "        if len(result) == k:\n",
    "            break  # 只需要 k 个元素即可\n",
    "\n",
    "    return result"
   ]
  },
  {
   "metadata": {
    "ExecuteTime": {
     "end_time": "2025-03-14T07:22:13.802174Z",
     "start_time": "2025-03-14T07:22:13.782926Z"
    }
   },
   "cell_type": "code",
   "source": [
    "#第三小问\n",
    "import random\n",
    "\n",
    "def quick_select(arr, k):\n",
    "    if len(arr) <= k:\n",
    "        return sorted(arr)\n",
    "    \n",
    "    pivot = random.choice(arr)\n",
    "    left = [x for x in arr if x < pivot]\n",
    "    mid = [x for x in arr if x == pivot]\n",
    "    right = [x for x in arr if x > pivot]\n",
    "\n",
    "    if k <= len(left):\n",
    "        return quick_select(left, k)\n",
    "    elif k <= len(left) + len(mid):\n",
    "        return sorted(left) + mid[:k - len(left)]\n",
    "    else:\n",
    "        return sorted(left) + mid + quick_select(right, k - len(left) - len(mid))\n",
    "\n",
    "def reorder_array_quickselect(arr, k):\n",
    "    n = len(arr)\n",
    "    sub_size = n // k\n",
    "    sub_arrays = []\n",
    "\n",
    "    for i in range(k):\n",
    "        smallest_k = quick_select(arr, sub_size)\n",
    "        sub_arrays.append(smallest_k if i % 2 == 0 else smallest_k[::-1])  # 交错排序\n",
    "        arr = [x for x in arr if x not in smallest_k]  # 移除已选元素\n",
    "\n",
    "    return sub_arrays\n",
    "\n"
   ],
   "outputs": [],
   "execution_count": 18
  },
  {
   "metadata": {
    "ExecuteTime": {
     "end_time": "2025-03-13T08:27:52.587160Z",
     "start_time": "2025-03-13T08:27:52.574857Z"
    }
   },
   "cell_type": "code",
   "source": [
    "arr = [1, 3, 5, 7, 9, 11, 13, 15, 2, 4, 6, 8, 10, 12, 16, 14]\n",
    "k = 4\n",
    "result = reorder_array_quickselect(arr, k)\n",
    "\n",
    "# 输出结果\n",
    "for sub in result:\n",
    "    print(sub)"
   ],
   "outputs": [
    {
     "name": "stdout",
     "output_type": "stream",
     "text": [
      "[1, 2, 3, 4]\n",
      "[8, 7, 6, 5]\n",
      "[9, 10, 11, 12]\n",
      "[16, 15, 14, 13]\n"
     ]
    }
   ],
   "execution_count": 5
  },
  {
   "cell_type": "markdown",
   "metadata": {},
   "source": [
    "## 问题 10：\n",
    "\n",
    "给定一个包含m个**字符串**的数组A, 其中不同的字符串可能有不同的字符数, 但数组中所有字符串的字符总数为n。设计一个算法在 $O(n)$ 时间内对字符串进行排序, 分析算法设计方案, 计算其时间复杂度, 并基于python编程实现该算法。请注意, 假设字符串只包含\"a\",\"b\",...,\"z\", \n",
    "\n",
    "\n",
    "\n",
    "举例1：数组A=[\"a\", \"da\", \"bde\", \"ab\", \"bc\", \"abdc\", \"cdba\"], 排序后的数组应该为：['a', 'ab', 'abdc', 'bc', 'bde', 'cdba', 'da']\n",
    "\n",
    "\n",
    "\n",
    "举例2：数组A=['ab', 'a', 'b', 'abc', 'ba', 'c'], 排序后的数组应该为：\n",
    "\n",
    "['a', 'ab', 'abc', 'b', 'ba', 'c']\n",
    "\n",
    "\n",
    "\n",
    "举例3：数组A=['aef', 'yzr', 'wr', 'ab', 'bhjc', 'lkabdc', 'pwcdba'],  排序后的数组应该为：['ab', 'aef', 'bhjc', 'lkabdc', 'pwcdba', 'wr', 'yzr']\n",
    "\n",
    "\n",
    "\n",
    "note：\n",
    "\n",
    "-  两个字符之间的比较可以考虑比较他们对应的ASCII码值；\n",
    "- python中可以使用`ord(\"a\")`返回字符 “a”对应的ASCII值"
   ]
  },
  {
   "cell_type": "markdown",
   "metadata": {},
   "source": [
    "idea:\n",
    "想法是构建二叉搜索树排序  \n",
    "思路：首先构建二叉搜索树  \n",
    "插入时，若字符串小于当前节点，放左子树;否则放右子树  \n",
    "其次中序遍历  \n",
    "中序遍历二叉树，可以按字典序输出字符串  \n",
    "时间复杂度是O(nlogn)  \n",
    "借助AI生成了二叉搜索树的代码，并且知道了该题时间复杂度更简单的做法  \n",
    "比如：基数排序+计数排序  \n",
    "Trie字典树排序：构建一棵Trie树，每个字符串的字符一次插入Trie。使用DFS输出排序后的字符串  \n",
    "桶排序：因为所有字符串都是由 'a' - 'z' 组成，我们可以用桶排序，按字符长度分组，每组内部使用计数排序。\n",
    "先按长度分类，然后对相同长度的字符串使用计数排序（因为字母是有限的，ASCII 码排序是O(n))  \n",
    "等等  \n",
    "\n"
   ]
  },
  {
   "cell_type": "code",
   "metadata": {
    "ExecuteTime": {
     "end_time": "2025-03-12T13:30:49.954694Z",
     "start_time": "2025-03-12T13:30:49.938522Z"
    }
   },
   "source": [
    "# add your code here\n",
    "class TreeNode:\n",
    "    \"\"\"二叉搜索树节点\"\"\"\n",
    "    def __init__(self, val):\n",
    "        self.val = val\n",
    "        self.left = None\n",
    "        self.right = None\n",
    "\n",
    "class BST:\n",
    "    \"\"\"二叉搜索树\"\"\"\n",
    "    def __init__(self):\n",
    "        self.root = None\n",
    "\n",
    "    def insert(self, val):\n",
    "        \"\"\"插入字符串到 BST\"\"\"\n",
    "        if not self.root:\n",
    "            self.root = TreeNode(val)\n",
    "            return\n",
    "        \n",
    "        node = self.root\n",
    "        while True:\n",
    "            if val < node.val:  # 按字典序放左子树\n",
    "                if node.left is None:\n",
    "                    node.left = TreeNode(val)\n",
    "                    break\n",
    "                node = node.left\n",
    "            else:  # 放右子树\n",
    "                if node.right is None:\n",
    "                    node.right = TreeNode(val)\n",
    "                    break\n",
    "                node = node.right\n",
    "\n",
    "    def in_order_traversal(self, node, result):\n",
    "        \"\"\"中序遍历（递归）\"\"\"\n",
    "        if node:\n",
    "            self.in_order_traversal(node.left, result)\n",
    "            result.append(node.val)\n",
    "            self.in_order_traversal(node.right, result)\n",
    "\n",
    "    def get_sorted_list(self):\n",
    "        \"\"\"获取排序后的列表\"\"\"\n",
    "        result = []\n",
    "        self.in_order_traversal(self.root, result)\n",
    "        return result\n",
    "\n",
    "def bst_sort(arr):\n",
    "    bst = BST()\n",
    "    for word in arr:\n",
    "        bst.insert(word)\n",
    "    return bst.get_sorted_list()\n",
    "# your algorithm time complexity is :\n",
    "# O(nlogn)"
   ],
   "outputs": [],
   "execution_count": 23
  },
  {
   "metadata": {
    "ExecuteTime": {
     "end_time": "2025-03-12T13:32:27.987824Z",
     "start_time": "2025-03-12T13:32:27.972872Z"
    }
   },
   "cell_type": "code",
   "source": [
    "# 测试\n",
    "A = [\"a\", \"da\", \"bde\", \"ab\", \"bc\", \"abdc\", \"cdba\"]\n",
    "sorted_A = bst_sort(A)\n",
    "print(sorted_A)  # 预期输出: ['a', 'ab', 'abdc', 'bc', 'bde', 'cdba', 'da']"
   ],
   "outputs": [
    {
     "name": "stdout",
     "output_type": "stream",
     "text": [
      "['a', 'ab', 'abdc', 'bc', 'bde', 'cdba', 'da']\n"
     ]
    }
   ],
   "execution_count": 29
  },
  {
   "metadata": {
    "ExecuteTime": {
     "end_time": "2025-03-12T13:32:30.271974Z",
     "start_time": "2025-03-12T13:32:30.267532Z"
    }
   },
   "cell_type": "code",
   "source": [
    "B=['ab', 'a', 'b', 'abc', 'ba', 'c']\n",
    "sorted_B = bst_sort(B)\n",
    "print(sorted_B) "
   ],
   "outputs": [
    {
     "name": "stdout",
     "output_type": "stream",
     "text": [
      "['a', 'ab', 'abc', 'b', 'ba', 'c']\n"
     ]
    }
   ],
   "execution_count": 30
  },
  {
   "metadata": {
    "ExecuteTime": {
     "end_time": "2025-03-12T13:32:33.803482Z",
     "start_time": "2025-03-12T13:32:33.796936Z"
    }
   },
   "cell_type": "code",
   "source": [
    "C=['aef', 'yzr', 'wr', 'ab', 'bhjc', 'lkabdc', 'pwcdba']\n",
    "sorted_C = bst_sort(C)\n",
    "print(sorted_C) "
   ],
   "outputs": [
    {
     "name": "stdout",
     "output_type": "stream",
     "text": [
      "['ab', 'aef', 'bhjc', 'lkabdc', 'pwcdba', 'wr', 'yzr']\n"
     ]
    }
   ],
   "execution_count": 31
  },
  {
   "metadata": {},
   "cell_type": "code",
   "outputs": [],
   "execution_count": null,
   "source": ""
  }
 ],
 "metadata": {
  "language_info": {
   "name": "python"
  },
  "kernelspec": {
   "name": "python3",
   "language": "python",
   "display_name": "Python 3 (ipykernel)"
  }
 },
 "nbformat": 4,
 "nbformat_minor": 2
}
