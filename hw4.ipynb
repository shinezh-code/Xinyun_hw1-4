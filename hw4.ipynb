{
 "cells": [
  {
   "cell_type": "markdown",
   "metadata": {},
   "source": [
    "## algorithm design and anlysis-2025 spring  homework 4\n",
    "**Deadline**：2025.5.14\n",
    "\n",
    "**name**:\n",
    "\n",
    "\n",
    "note：\n",
    "---\n",
    "1. 带有\\*的题目，申请免上课的同学，必须完成，其他同学选作；\n",
    "2. 请独立完成，如求助了他人或者大模型，请著明，并且不可省略算法分析部分；\n",
    "4. 如若作答有雷同，全部取消成绩；\n",
    "3. 需要书面作答的题目，可以通过引用图片的形式添加，但是注意上传项目时包含所引用的图片的源文件；\n",
    "4. $log_n$ 默认表示$log_2{n}$;"
   ]
  },
  {
   "cell_type": "markdown",
   "metadata": {},
   "source": [
    "## 问题 1 \n",
    "**最小生成树（Minimum Spanning Tree）**\n",
    "\n",
    "设  **G**  为一个带权重的连通无向图，且所有边的权重均不相等。令$e_i$ 为权重第 $i$ 小的边。最小生成树（MST）是否必须包含 $e_1$ ? 同理，是否必须包含 $e_2$ 和 $e_3$ ? 若必须包含，请给出证明；否则，请构造反例。需从基本原理论证，不能依赖割引理(cut lemma) 或 Prim/Kruskal算法的正确性。\n"
   ]
  },
  {
   "cell_type": "markdown",
   "metadata": {},
   "source": [
    "answer:\n",
    "![图片描述](hw4_img/hw4_01.png)"
   ]
  },
  {
   "cell_type": "markdown",
   "metadata": {},
   "source": [
    "## 问题 2 \n",
    "**瓶颈生成树（Bottleneck Spanning Tree）**\n",
    "\n",
    "带有权重的无向图 $G(V,E,w)$ 的瓶颈生成树，表现为：在所有生成树中，最大权重边的权重值最小。即，BST $T$ 最小化瓶颈损失 $c(T)=max_{e \\in T}{w(e)}$。\n",
    "\n",
    "1. 证明 $G$ 的每一个最小生成树（MST）都是瓶颈生成树（BST）\n",
    "2. 设计一个线性时间复杂度的算法：， 对于一个图 $G(V,E,w)$ 和一个整数 $b$，判断图 $ G$ 是否存在一个瓶颈生成树，其最大权重边的权重不超过 $b$，分析算法设计思路，并基于python编程实现。\n",
    "3. 设计一个线性时间复杂度的算法：对于给定的图 $G(V,E,w)$，找到其瓶颈生成树，分析算法设计思路，并基于python编程实现。"
   ]
  },
  {
   "cell_type": "markdown",
   "metadata": {},
   "source": [
    "idea：\n",
    "首先借助AI回顾了一下定义，最小生成树：所有生成树中，边权和最小。瓶颈生成树：所有生成树中，最大边权最小  \n",
    "要证：MST 的最大边权等于所有生成树中最大边权的最小值，即也是 BST  \n",
    "证明思路：\n",
    "设 $T$ 是图 $G$ 的一棵最小生成树（MST），我们要证明 $T$ 同时也是一棵 BST  \n",
    "反证法：  \n",
    "假设 $T$ 不是一棵瓶颈生成树。\n",
    "则存在另一棵生成树 $T'$，使得：  \n",
    "$\\max_{e \\in T'} w(e) < \\max_{e \\in T} w(e)$  \n",
    "即 $T'$ 的瓶颈值小于 $T$ 的瓶颈值。\n",
    "设 $w_{\\max}(T) = w(e_{\\text{max}})$，其中 $e_{\\text{max}} \\in T$ 是 T 中的最大权重边。\n",
    "我们考虑从 $T'$ 中移除任意一个 $e' \\in T'$，添加 $e_{\\text{max}}$（若其连接的两个点在 $T'$ 中不连通），尝试构造出一棵新的生成树。这将导致边权和减小或不变，说明 $T'$ 的权重和不大于 $T$。\n",
    "但这与 $T$ 是最小生成树矛盾。\n",
    "因此，MST 中的最大边权已经是所有生成树中最小的最大边权，所以它一定也是 BST  \n",
    "第二题：  \n",
    "核心思路是：只保留权重 ≤ b 的边，判断图是否连通。  \n",
    "如果保留的子图仍连通（也就是说包含一棵生成树），那么就存在一棵瓶颈值 ≤ b 的生成树。  \n",
    "否则，不存在  \n",
    "仅访问所有边和点一次，复杂度为 $O(|V| + |E|)$，即线性时间  \n",
    "第三题：  \n",
    "思路：二分 + 判断子图是否连通\n",
    "二分边权值范围 $[w_{\\min}, w_{\\max}]$：  \n",
    "每次猜一个瓶颈值 $b$。  \n",
    "用上面的方法判断图中是否存在一棵生成树最大边权 ≤ b。  \n",
    "找到最小可行瓶颈值 $b^*$。  \n",
    "用 $b^*$ 构建子图，找任意一棵生成树（如用 DFS + Union-Find）  \n",
    "时间复杂度：  \n",
    "二分查找次数为 $O(\\log W)$，其中 $W$ 为最大边权。\n",
    "\n",
    "每次判断图连通性为 $O(V+E)$。\n",
    "\n",
    "构建生成树也为 $O(V+E)$。\n",
    "\n",
    "总体复杂度为 线性对数时间\n"
   ]
  },
  {
   "cell_type": "code",
   "metadata": {
    "ExecuteTime": {
     "end_time": "2025-04-15T07:18:21.262781Z",
     "start_time": "2025-04-15T07:18:21.250786Z"
    }
   },
   "source": [
    "# add your code here\n",
    "from collections import defaultdict, deque\n",
    "\n",
    "def exists_bst_with_bottleneck(G_edges, n, b):\n",
    "    # G_edges: list of (u, v, w)\n",
    "    # n: number of vertices\n",
    "    # b: candidate bottleneck value\n",
    "    \n",
    "    graph = defaultdict(list)\n",
    "    for u, v, w in G_edges:\n",
    "        if w <= b:\n",
    "            graph[u].append(v)\n",
    "            graph[v].append(u)\n",
    "\n",
    "    # BFS to check connectivity\n",
    "    visited = set()\n",
    "    queue = deque([0])\n",
    "    while queue:\n",
    "        node = queue.popleft()\n",
    "        if node not in visited:\n",
    "            visited.add(node)\n",
    "            queue.extend(graph[node])\n",
    "\n",
    "    return len(visited) == n\n",
    "# algorithm of the liear time complexity "
   ],
   "outputs": [],
   "execution_count": 1
  },
  {
   "metadata": {
    "ExecuteTime": {
     "end_time": "2025-04-15T07:19:07.421776Z",
     "start_time": "2025-04-15T07:19:07.408778Z"
    }
   },
   "cell_type": "code",
   "source": [
    "def find_bottleneck_spanning_tree(G_edges, n):\n",
    "    weights = sorted(set(w for _, _, w in G_edges))\n",
    "    \n",
    "    def is_connected(b):\n",
    "        graph = defaultdict(list)\n",
    "        for u, v, w in G_edges:\n",
    "            if w <= b:\n",
    "                graph[u].append(v)\n",
    "                graph[v].append(u)\n",
    "        visited = set()\n",
    "        queue = deque([0])\n",
    "        while queue:\n",
    "            node = queue.popleft()\n",
    "            if node not in visited:\n",
    "                visited.add(node)\n",
    "                queue.extend(graph[node])\n",
    "        return len(visited) == n\n",
    "\n",
    "    # Binary search to find minimum b\n",
    "    left, right = 0, len(weights) - 1\n",
    "    res_b = weights[-1]\n",
    "    while left <= right:\n",
    "        mid = (left + right) // 2\n",
    "        if is_connected(weights[mid]):\n",
    "            res_b = weights[mid]\n",
    "            right = mid - 1\n",
    "        else:\n",
    "            left = mid + 1\n",
    "\n",
    "    # Construct tree with edges <= res_b\n",
    "    parent = list(range(n))\n",
    "    def find(x):\n",
    "        while parent[x] != x:\n",
    "            parent[x] = parent[parent[x]]\n",
    "            x = parent[x]\n",
    "        return x\n",
    "    def union(x, y):\n",
    "        px, py = find(x), find(y)\n",
    "        if px == py:\n",
    "            return False\n",
    "        parent[px] = py\n",
    "        return True\n",
    "\n",
    "    tree = []\n",
    "    for u, v, w in sorted(G_edges, key=lambda x: x[2]):\n",
    "        if w <= res_b and union(u, v):\n",
    "            tree.append((u, v, w))\n",
    "        if len(tree) == n - 1:\n",
    "            break\n",
    "\n",
    "    return tree, res_b"
   ],
   "outputs": [],
   "execution_count": 2
  },
  {
   "metadata": {
    "ExecuteTime": {
     "end_time": "2025-04-15T07:19:17.867727Z",
     "start_time": "2025-04-15T07:19:17.859638Z"
    }
   },
   "cell_type": "code",
   "source": [
    "edges = [(0, 1, 4), (0, 2, 3), (1, 2, 5), (1, 3, 6), (2, 3, 2)]\n",
    "n = 4\n",
    "tree, bottleneck = find_bottleneck_spanning_tree(edges, n)\n",
    "print(\"瓶颈生成树：\", tree)\n",
    "print(\"瓶颈值：\", bottleneck)"
   ],
   "outputs": [
    {
     "name": "stdout",
     "output_type": "stream",
     "text": [
      "瓶颈生成树： [(2, 3, 2), (0, 2, 3), (0, 1, 4)]\n",
      "瓶颈值： 4\n"
     ]
    }
   ],
   "execution_count": 3
  },
  {
   "cell_type": "markdown",
   "metadata": {},
   "source": [
    "## 问题 3\n",
    "\n",
    "**道路网（Road Network）**\n",
    "\n",
    "假设有一个以图 $ G(V, E, l) $ 表示的道路网络，连接了一组城市 $ V $。我们假设该网络是有向的，并且每条道路 $(u, v) \\in E$ 都有一个非负的长度 $ l(u, v) $。一条新的道路即将被建造，因此有一个列表 $ E' $ 包含它可以连接的城市对。每对 $(u, v) \\in E'$ 都有一个对应的长度 $ l'(u, v) $。我们希望选择一对城市，使得两个城市 $ s, t \\in V $ 之间的距离减少最大。请为此问题编写一个高效的算法，并详细解释算法的正确性和复杂度。\n"
   ]
  },
  {
   "metadata": {},
   "cell_type": "markdown",
   "source": [
    "这是一个 图优化问题，目标是从候选边集合 $E'$ 中选择一条新建道路，使得在原图 $G = (V, E, l)$ 的基础上添加这条边后，使两个给定城市 $s$ 和 $t$ 之间的最短路径减少最多  \n",
    "算法设计：基于 Dijkstra + 遍历候选边  \n",
    "时间复杂度:  \n",
    "Dijkstra 两次：$O((|V| + |E|) \\log |V|)$。  \n",
    "遍历 $E'$：$O(|E'|)$。  \n",
    "总复杂度为  \n",
    "$O((|V| + |E|) \\log |V| + |E'|)$  \n"
   ]
  },
  {
   "metadata": {
    "ExecuteTime": {
     "end_time": "2025-04-15T07:22:58.785029Z",
     "start_time": "2025-04-15T07:22:58.773697Z"
    }
   },
   "cell_type": "code",
   "source": [
    "import heapq\n",
    "from collections import defaultdict\n",
    "\n",
    "def dijkstra(n, graph, start):\n",
    "    dist = [float('inf')] * n\n",
    "    dist[start] = 0\n",
    "    heap = [(0, start)]\n",
    "    while heap:\n",
    "        d, u = heapq.heappop(heap)\n",
    "        if d > dist[u]:\n",
    "            continue\n",
    "        for v, w in graph[u]:\n",
    "            if dist[v] > d + w:\n",
    "                dist[v] = d + w\n",
    "                heapq.heappush(heap, (dist[v], v))\n",
    "    return dist\n",
    "\n",
    "def best_road_to_add(n, E, E_new, l_new, s, t):\n",
    "    # Step 1: Build graph and reverse graph\n",
    "    graph = defaultdict(list)\n",
    "    reverse_graph = defaultdict(list)\n",
    "    for u, v, w in E:\n",
    "        graph[u].append((v, w))\n",
    "        reverse_graph[v].append((u, w))\n",
    "    \n",
    "    # Step 2: Run Dijkstra from s and t\n",
    "    dist_s = dijkstra(n, graph, s)\n",
    "    dist_t = dijkstra(n, reverse_graph, t)\n",
    "    original_dist = dist_s[t]\n",
    "    \n",
    "    # Step 3: Try all candidate new edges\n",
    "    max_improvement = 0\n",
    "    best_edge = None\n",
    "    for (u, v), w in zip(E_new, l_new):\n",
    "        if dist_s[u] != float('inf') and dist_t[v] != float('inf'):\n",
    "            new_len = dist_s[u] + w + dist_t[v]\n",
    "            improvement = original_dist - new_len\n",
    "            if improvement > max_improvement:\n",
    "                max_improvement = improvement\n",
    "                best_edge = (u, v)\n",
    "    \n",
    "    return best_edge, max_improvement\n"
   ],
   "outputs": [],
   "execution_count": 4
  },
  {
   "metadata": {
    "ExecuteTime": {
     "end_time": "2025-04-15T07:23:09.197122Z",
     "start_time": "2025-04-15T07:23:09.189093Z"
    }
   },
   "cell_type": "code",
   "source": [
    "n = 5\n",
    "E = [(0,1,2), (1,2,3), (2,4,2), (0,3,10), (3,4,1)]\n",
    "E_new = [(1,3), (3,2), (0,4)]\n",
    "l_new = [1, 2, 7]\n",
    "s, t = 0, 4\n",
    "\n",
    "best_edge, max_delta = best_road_to_add(n, E, E_new, l_new, s, t)\n",
    "print(f\"最优新建道路: {best_edge}, 路程减少: {max_delta}\")\n"
   ],
   "outputs": [
    {
     "name": "stdout",
     "output_type": "stream",
     "text": [
      "最优新建道路: (1, 3), 路程减少: 3\n"
     ]
    }
   ],
   "execution_count": 5
  },
  {
   "cell_type": "markdown",
   "metadata": {},
   "source": [
    "## 问题 4\n",
    "\n",
    "**逃离问题**\n",
    "\n",
    "一个 $ n \\times n $ 的网格是一个无向图，由 $ n $ 行和 $ n $ 列的顶点组成，如下图所示。我们用 $(i,j)$ 表示第 $ i $ 行和第 $ j $ 列的顶点。除了边界顶点，网格中的所有顶点都有四个邻居，即满足 $ i = 1, i = n, j = 1 $ 或 $ j = n $ 的点 $(i,j)$。\n",
    "\n",
    "给定网格中的 $ m \\leq n^2 $ 个起点 $(x_1, y_1), (x_2, y_2), \\cdots , (x_m, y_m)$，逃离问题是确定是否存在 $ m $ 条顶点不相交的路径（即路径之间不相交），从这些起点到边界上的任意 $ m $ 个不同点。例如，图1中的网格存在逃离。\n",
    "\n",
    "(1) 该问题可以看作是一个最大流问题。考虑一个流网络，其中顶点和边都有容量。也就是说，进入任何给定顶点的总正流量受到容量限制。证明在具有边和顶点容量的网络中确定最大流可以简化为在具有可比大小的普通流网络上的最大流问题。更准确地说，你需要将一个具有顶点和边容量的网络 $ G = (V,E) $ 转换为另一个仅具有边容量的网络 $ G' = (V', E') $，使得两个网络上的最大流相同，并且你构建的新网络具有 $ V' = O(V) $ 个顶点和 $ E' = O(E) $ 条边。你可以假设网络是连通的。\n",
    "\n",
    "(2) 描述一个解决逃离问题的高效算法，并分析其运行时间。\n",
    "\n",
    "\n",
    "<div align=\"center\"> <img alt=\"图片\" src=\"./fig/escepe-p.png\"> </div>\n",
    "<center> 图2. 逃脱问题网格，起始顶点为黑色，其他网格顶点为白色</center>"
   ]
  },
  {
   "cell_type": "markdown",
   "metadata": {},
   "source": [
    "idea：  \n",
    "这道题没什么思路，甚至题目都都不太懂，是借助AI理解的题意，但是怎么做还是不明白，借助AI大致理解了怎么做  \n",
    "第一题：  \n",
    "为了将一个具有顶点和边容量的网络转换为仅具有边容量的网络，我们可以使用顶点拆分技术。这种方法的基本思想是将每个具有容量限制的顶点拆分成多个顶点，并通过边连接这些顶点，以模拟原始顶点的容量限制  \n",
    "步骤:  \n",
    "![图片描述](hw4_img/hw4_4.1.png)  \n",
    "![图片描述](hw4_img/hw4_4.2.png)  \n",
    "![图片描述](hw4_img/hw4_4.3.png)  \n",
    "![图片描述](hw4_img/hw4_4.4.png)  "
   ]
  },
  {
   "metadata": {},
   "cell_type": "code",
   "outputs": [],
   "execution_count": null,
   "source": ""
  }
 ],
 "metadata": {
  "language_info": {
   "name": "python"
  },
  "kernelspec": {
   "name": "python3",
   "language": "python",
   "display_name": "Python 3 (ipykernel)"
  }
 },
 "nbformat": 4,
 "nbformat_minor": 2
}
